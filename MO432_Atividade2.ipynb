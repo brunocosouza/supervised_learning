{
  "nbformat": 4,
  "nbformat_minor": 0,
  "metadata": {
    "colab": {
      "name": "MO432 Atividade2.ipynb",
      "provenance": [],
      "collapsed_sections": [],
      "toc_visible": true,
      "include_colab_link": true
    },
    "kernelspec": {
      "name": "python3",
      "display_name": "Python 3"
    },
    "language_info": {
      "name": "python"
    }
  },
  "cells": [
    {
      "cell_type": "markdown",
      "metadata": {
        "id": "view-in-github",
        "colab_type": "text"
      },
      "source": [
        "<a href=\"https://colab.research.google.com/github/brunocosouza/supervised_learning/blob/main/MO432_Atividade2.ipynb\" target=\"_parent\"><img src=\"https://colab.research.google.com/assets/colab-badge.svg\" alt=\"Open In Colab\"/></a>"
      ]
    },
    {
      "cell_type": "markdown",
      "metadata": {
        "id": "j6KE5QvCBXgC"
      },
      "source": [
        "https://archive.ics.uci.edu/ml/datasets/Bias+correction+of+numerical+prediction+model+temperature+forecast"
      ]
    },
    {
      "cell_type": "markdown",
      "metadata": {
        "id": "wTvPdmD1BZNA"
      },
      "source": [
        "<h1>MO432 - Atividade 2</h1>\n",
        "\n",
        "RA234837 - Bruno César de Oliveira Souza\n",
        "\n",
        "RA065068 - Walker Humberto Batista"
      ]
    },
    {
      "cell_type": "markdown",
      "metadata": {
        "id": "oklKh3pyBeV6"
      },
      "source": [
        "### Importando bibliotecas"
      ]
    },
    {
      "cell_type": "code",
      "metadata": {
        "id": "vJkm20qgBg_S"
      },
      "source": [
        "import pandas as pd\n",
        "import numpy as np\n",
        "\n",
        "from sklearn.preprocessing import StandardScaler\n",
        "from sklearn.decomposition import PCA\n",
        "\n",
        "from sklearn.model_selection import train_test_split\n",
        "from sklearn.model_selection import cross_val_score\n",
        "from sklearn.model_selection import cross_validate\n",
        "from sklearn.model_selection import ShuffleSplit\n",
        "from sklearn.model_selection import cross_validate\n",
        "\n",
        "from sklearn import metrics\n",
        "from sklearn.metrics import mean_squared_error\n",
        "\n",
        "from sklearn.linear_model import LinearRegression\n",
        "from sklearn.linear_model import Ridge, LassoCV, Lasso\n",
        "from sklearn.svm import SVR\n",
        "\n",
        "import matplotlib\n",
        "import matplotlib.pyplot as plt\n",
        "\n",
        "import warnings\n",
        "warnings.filterwarnings('ignore')"
      ],
      "execution_count": null,
      "outputs": []
    },
    {
      "cell_type": "markdown",
      "metadata": {
        "id": "pzuQKYz9Bj8h"
      },
      "source": [
        "# Leitura dos dados \n",
        "\n",
        "This data is for the purpose of bias correction of next-day maximum and minimum air temperatures forecast of the LDAPS model operated by the Korea Meteorological Administration over Seoul, South Korea. This data consists of summer data from 2013 to 2017. The input data is largely composed of the LDAPS model's next-day forecast data, in-situ maximum and minimum temperatures of present-day, and geographic auxiliary variables. There are two outputs (i.e. next-day maximum and minimum air temperatures) in this data. Hindcast validation was conducted for the period from 2015 to 2017.\n",
        "\n",
        "Attribute Information:\n",
        "\n",
        "For more information, read [Cho et al, 2020].\n",
        "1. station - used weather station number: 1 to 25\n",
        "2. Date - Present day: yyyy-mm-dd ('2013-06-30' to '2017-08-30')\n",
        "3. Present_Tmax - Maximum air temperature between 0 and 21 h on the present day (Â°C): 20 to 37.6\n",
        "4. Present_Tmin - Minimum air temperature between 0 and 21 h on the present day (Â°C): 11.3 to 29.9\n",
        "5. LDAPS_RHmin - LDAPS model forecast of next-day minimum relative humidity (%): 19.8 to 98.5\n",
        "6. LDAPS_RHmax - LDAPS model forecast of next-day maximum relative humidity (%): 58.9 to 100\n",
        "7. LDAPS_Tmax_lapse - LDAPS model forecast of next-day maximum air temperature applied lapse rate (Â°C): 17.6 to 38.5\n",
        "8. LDAPS_Tmin_lapse - LDAPS model forecast of next-day minimum air temperature applied lapse rate (Â°C): 14.3 to 29.6\n",
        "9. LDAPS_WS - LDAPS model forecast of next-day average wind speed (m/s): 2.9 to 21.9\n",
        "10. LDAPS_LH - LDAPS model forecast of next-day average latent heat flux (W/m2): -13.6 to 213.4\n",
        "11. LDAPS_CC1 - LDAPS model forecast of next-day 1st 6-hour split average cloud cover (0-5 h) (%): 0 to 0.97\n",
        "12. LDAPS_CC2 - LDAPS model forecast of next-day 2nd 6-hour split average cloud cover (6-11 h) (%): 0 to 0.97\n",
        "13. LDAPS_CC3 - LDAPS model forecast of next-day 3rd 6-hour split average cloud cover (12-17 h) (%): 0 to 0.98\n",
        "14. LDAPS_CC4 - LDAPS model forecast of next-day 4th 6-hour split average cloud cover (18-23 h) (%): 0 to 0.97\n",
        "15. LDAPS_PPT1 - LDAPS model forecast of next-day 1st 6-hour split average precipitation (0-5 h) (%): 0 to 23.7\n",
        "16. LDAPS_PPT2 - LDAPS model forecast of next-day 2nd 6-hour split average precipitation (6-11 h) (%): 0 to 21.6\n",
        "17. LDAPS_PPT3 - LDAPS model forecast of next-day 3rd 6-hour split average precipitation (12-17 h) (%): 0 to 15.8\n",
        "18. LDAPS_PPT4 - LDAPS model forecast of next-day 4th 6-hour split average precipitation (18-23 h) (%): 0 to 16.7\n",
        "19. lat - Latitude (Â°): 37.456 to 37.645\n",
        "20. lon - Longitude (Â°): 126.826 to 127.135\n",
        "21. DEM - Elevation (m): 12.4 to 212.3\n",
        "22. Slope - Slope (Â°): 0.1 to 5.2\n",
        "23. Solar radiation - Daily incoming solar radiation (wh/m2): 4329.5 to 5992.9\n",
        "24. Next_Tmax - The next-day maximum air temperature (Â°C): 17.4 to 38.9\n",
        "25. Next_Tmin - The next-day minimum air temperature (Â°C): 11.3 to 29.8"
      ]
    },
    {
      "cell_type": "code",
      "metadata": {
        "id": "xg8KBBQTB7bQ"
      },
      "source": [
        "head = ['Station','Date', 'Present_Tmax', 'Present_Tmin', 'LDAPS_RHmin', 'LDAPS_RHmax', \n",
        "        'LDAPS_Tmax_lapse ', 'LDAPS_Tmin_lapse', 'LDAPS_WS', 'LDAPS_LH ','LDAPS_CC1 ','LDAPS_CC2 ',\n",
        "        'LDAPS_CC3 ', 'LDAPS_CC4 ', 'LDAPS_PPT1','LDAPS_PPT2','LDAPS_PPT3','LDAPS_PPT4',\n",
        "        'Latitude','Longitude','Slope ','Solar radiation','Next_Tmax', 'Next_Tmin']"
      ],
      "execution_count": null,
      "outputs": []
    },
    {
      "cell_type": "code",
      "metadata": {
        "id": "czcAXF6gEz5R"
      },
      "source": [
        "def print_linha_coluna(df):\n",
        "  print(str(df) +  '\\n\\nDESCRICAO: \\nO dataset apresenta: {} colunas e {} linhas.\\n\\nNomes das colunas: \\n{}'.format(len(df.columns), \n",
        "                                                                                                 len(df), \n",
        "                                                                                                 df.columns))"
      ],
      "execution_count": null,
      "outputs": []
    },
    {
      "cell_type": "code",
      "metadata": {
        "id": "g2c2BXMvB4LJ"
      },
      "source": [
        "# Reading data into pandas dataframe\n",
        "df_raw = pd.read_csv('https://archive.ics.uci.edu/ml/machine-learning-databases/00514/Bias_correction_ucl.csv')"
      ],
      "execution_count": null,
      "outputs": []
    },
    {
      "cell_type": "code",
      "metadata": {
        "id": "DxgqlCygE5p9",
        "colab": {
          "base_uri": "https://localhost:8080/"
        },
        "outputId": "e7caabf2-3dfa-4769-97c8-e81915921a36"
      },
      "source": [
        "print_linha_coluna(df_raw)"
      ],
      "execution_count": null,
      "outputs": [
        {
          "output_type": "stream",
          "text": [
            "      station        Date  Present_Tmax  ...  Solar radiation  Next_Tmax  Next_Tmin\n",
            "0         1.0  2013-06-30          28.7  ...      5992.895996       29.1       21.2\n",
            "1         2.0  2013-06-30          31.9  ...      5869.312500       30.5       22.5\n",
            "2         3.0  2013-06-30          31.6  ...      5863.555664       31.1       23.9\n",
            "3         4.0  2013-06-30          32.0  ...      5856.964844       31.7       24.3\n",
            "4         5.0  2013-06-30          31.4  ...      5859.552246       31.2       22.5\n",
            "...       ...         ...           ...  ...              ...        ...        ...\n",
            "7747     23.0  2017-08-30          23.3  ...      4443.313965       28.3       18.1\n",
            "7748     24.0  2017-08-30          23.3  ...      4438.373535       28.6       18.8\n",
            "7749     25.0  2017-08-30          23.2  ...      4451.345215       27.8       17.4\n",
            "7750      NaN         NaN          20.0  ...      4329.520508       17.4       11.3\n",
            "7751      NaN         NaN          37.6  ...      5992.895996       38.9       29.8\n",
            "\n",
            "[7752 rows x 25 columns]\n",
            "\n",
            "DESCRICAO: \n",
            "O dataset apresenta: 25 colunas e 7752 linhas.\n",
            "\n",
            "Nomes das colunas: \n",
            "Index(['station', 'Date', 'Present_Tmax', 'Present_Tmin', 'LDAPS_RHmin',\n",
            "       'LDAPS_RHmax', 'LDAPS_Tmax_lapse', 'LDAPS_Tmin_lapse', 'LDAPS_WS',\n",
            "       'LDAPS_LH', 'LDAPS_CC1', 'LDAPS_CC2', 'LDAPS_CC3', 'LDAPS_CC4',\n",
            "       'LDAPS_PPT1', 'LDAPS_PPT2', 'LDAPS_PPT3', 'LDAPS_PPT4', 'lat', 'lon',\n",
            "       'DEM', 'Slope', 'Solar radiation', 'Next_Tmax', 'Next_Tmin'],\n",
            "      dtype='object')\n"
          ],
          "name": "stdout"
        }
      ]
    },
    {
      "cell_type": "code",
      "metadata": {
        "id": "0p_0UcIqDc-P",
        "colab": {
          "base_uri": "https://localhost:8080/"
        },
        "outputId": "6074e7a5-97a5-4390-c839-24d9f93b69de"
      },
      "source": [
        "#Removendo as colunas Next_time e Date\n",
        "df = df_raw.drop(['Date','Next_Tmin'], axis = 1)\n",
        "print_linha_coluna(df)"
      ],
      "execution_count": null,
      "outputs": [
        {
          "output_type": "stream",
          "text": [
            "      station  Present_Tmax  Present_Tmin  ...     Slope  Solar radiation  Next_Tmax\n",
            "0         1.0          28.7          21.4  ...  2.785000      5992.895996       29.1\n",
            "1         2.0          31.9          21.6  ...  0.514100      5869.312500       30.5\n",
            "2         3.0          31.6          23.3  ...  0.266100      5863.555664       31.1\n",
            "3         4.0          32.0          23.4  ...  2.534800      5856.964844       31.7\n",
            "4         5.0          31.4          21.9  ...  0.505500      5859.552246       31.2\n",
            "...       ...           ...           ...  ...       ...              ...        ...\n",
            "7747     23.0          23.3          17.1  ...  0.155400      4443.313965       28.3\n",
            "7748     24.0          23.3          17.7  ...  0.222300      4438.373535       28.6\n",
            "7749     25.0          23.2          17.4  ...  0.271300      4451.345215       27.8\n",
            "7750      NaN          20.0          11.3  ...  0.098475      4329.520508       17.4\n",
            "7751      NaN          37.6          29.9  ...  5.178230      5992.895996       38.9\n",
            "\n",
            "[7752 rows x 23 columns]\n",
            "\n",
            "DESCRICAO: \n",
            "O dataset apresenta: 23 colunas e 7752 linhas.\n",
            "\n",
            "Nomes das colunas: \n",
            "Index(['station', 'Present_Tmax', 'Present_Tmin', 'LDAPS_RHmin', 'LDAPS_RHmax',\n",
            "       'LDAPS_Tmax_lapse', 'LDAPS_Tmin_lapse', 'LDAPS_WS', 'LDAPS_LH',\n",
            "       'LDAPS_CC1', 'LDAPS_CC2', 'LDAPS_CC3', 'LDAPS_CC4', 'LDAPS_PPT1',\n",
            "       'LDAPS_PPT2', 'LDAPS_PPT3', 'LDAPS_PPT4', 'lat', 'lon', 'DEM', 'Slope',\n",
            "       'Solar radiation', 'Next_Tmax'],\n",
            "      dtype='object')\n"
          ],
          "name": "stdout"
        }
      ]
    },
    {
      "cell_type": "code",
      "metadata": {
        "id": "gkO5qeXlD_Bt",
        "colab": {
          "base_uri": "https://localhost:8080/"
        },
        "outputId": "d9ec3059-78d4-4192-f5c9-5a7fcb044847"
      },
      "source": [
        "# Removendo linhas NaN\n",
        "df.dropna(inplace=True)\n",
        "print_linha_coluna(df)"
      ],
      "execution_count": null,
      "outputs": [
        {
          "output_type": "stream",
          "text": [
            "      station  Present_Tmax  Present_Tmin  ...   Slope  Solar radiation  Next_Tmax\n",
            "0         1.0          28.7          21.4  ...  2.7850      5992.895996       29.1\n",
            "1         2.0          31.9          21.6  ...  0.5141      5869.312500       30.5\n",
            "2         3.0          31.6          23.3  ...  0.2661      5863.555664       31.1\n",
            "3         4.0          32.0          23.4  ...  2.5348      5856.964844       31.7\n",
            "4         5.0          31.4          21.9  ...  0.5055      5859.552246       31.2\n",
            "...       ...           ...           ...  ...     ...              ...        ...\n",
            "7745     21.0          23.1          17.8  ...  0.5721      4456.024414       27.6\n",
            "7746     22.0          22.5          17.4  ...  0.1332      4441.803711       28.0\n",
            "7747     23.0          23.3          17.1  ...  0.1554      4443.313965       28.3\n",
            "7748     24.0          23.3          17.7  ...  0.2223      4438.373535       28.6\n",
            "7749     25.0          23.2          17.4  ...  0.2713      4451.345215       27.8\n",
            "\n",
            "[7588 rows x 23 columns]\n",
            "\n",
            "DESCRICAO: \n",
            "O dataset apresenta: 23 colunas e 7588 linhas.\n",
            "\n",
            "Nomes das colunas: \n",
            "Index(['station', 'Present_Tmax', 'Present_Tmin', 'LDAPS_RHmin', 'LDAPS_RHmax',\n",
            "       'LDAPS_Tmax_lapse', 'LDAPS_Tmin_lapse', 'LDAPS_WS', 'LDAPS_LH',\n",
            "       'LDAPS_CC1', 'LDAPS_CC2', 'LDAPS_CC3', 'LDAPS_CC4', 'LDAPS_PPT1',\n",
            "       'LDAPS_PPT2', 'LDAPS_PPT3', 'LDAPS_PPT4', 'lat', 'lon', 'DEM', 'Slope',\n",
            "       'Solar radiation', 'Next_Tmax'],\n",
            "      dtype='object')\n"
          ],
          "name": "stdout"
        }
      ]
    },
    {
      "cell_type": "markdown",
      "metadata": {
        "id": "bC7bM0ZoHUlE"
      },
      "source": [
        "## Centralizando e Normalizando atributos\n",
        "\n",
        "Transformanmos nossos dados em matrizes do numpy para utilizar as funções do sklearn para centralizarmos as amostras e normalizarmos em relação ao desvio padrão."
      ]
    },
    {
      "cell_type": "code",
      "metadata": {
        "id": "wTLJLoucHtvT"
      },
      "source": [
        "dfx = df.loc[:,['station', 'Present_Tmax', 'Present_Tmin', 'LDAPS_RHmin',\n",
        "       'LDAPS_RHmax', 'LDAPS_Tmax_lapse', 'LDAPS_Tmin_lapse', 'LDAPS_WS',\n",
        "       'LDAPS_LH', 'LDAPS_CC1', 'LDAPS_CC2', 'LDAPS_CC3', 'LDAPS_CC4',\n",
        "       'LDAPS_PPT1', 'LDAPS_PPT2', 'LDAPS_PPT3', 'LDAPS_PPT4', 'lat', 'lon','DEM', 'Slope', 'Solar radiation']]\n",
        "dfy = df.loc[:, ['Next_Tmax']]"
      ],
      "execution_count": null,
      "outputs": []
    },
    {
      "cell_type": "code",
      "metadata": {
        "id": "Dhd3CkE5IZas",
        "colab": {
          "base_uri": "https://localhost:8080/"
        },
        "outputId": "1a4c099b-60d3-4aac-daa6-17bb07765003"
      },
      "source": [
        "print_linha_coluna(dfx)"
      ],
      "execution_count": null,
      "outputs": [
        {
          "output_type": "stream",
          "text": [
            "      station  Present_Tmax  Present_Tmin  ...       DEM   Slope  Solar radiation\n",
            "0         1.0          28.7          21.4  ...  212.3350  2.7850      5992.895996\n",
            "1         2.0          31.9          21.6  ...   44.7624  0.5141      5869.312500\n",
            "2         3.0          31.6          23.3  ...   33.3068  0.2661      5863.555664\n",
            "3         4.0          32.0          23.4  ...   45.7160  2.5348      5856.964844\n",
            "4         5.0          31.4          21.9  ...   35.0380  0.5055      5859.552246\n",
            "...       ...           ...           ...  ...       ...     ...              ...\n",
            "7745     21.0          23.1          17.8  ...   26.2980  0.5721      4456.024414\n",
            "7746     22.0          22.5          17.4  ...   21.9668  0.1332      4441.803711\n",
            "7747     23.0          23.3          17.1  ...   15.5876  0.1554      4443.313965\n",
            "7748     24.0          23.3          17.7  ...   17.2956  0.2223      4438.373535\n",
            "7749     25.0          23.2          17.4  ...   19.5844  0.2713      4451.345215\n",
            "\n",
            "[7588 rows x 22 columns]\n",
            "\n",
            "DESCRICAO: \n",
            "O dataset apresenta: 22 colunas e 7588 linhas.\n",
            "\n",
            "Nomes das colunas: \n",
            "Index(['station', 'Present_Tmax', 'Present_Tmin', 'LDAPS_RHmin', 'LDAPS_RHmax',\n",
            "       'LDAPS_Tmax_lapse', 'LDAPS_Tmin_lapse', 'LDAPS_WS', 'LDAPS_LH',\n",
            "       'LDAPS_CC1', 'LDAPS_CC2', 'LDAPS_CC3', 'LDAPS_CC4', 'LDAPS_PPT1',\n",
            "       'LDAPS_PPT2', 'LDAPS_PPT3', 'LDAPS_PPT4', 'lat', 'lon', 'DEM', 'Slope',\n",
            "       'Solar radiation'],\n",
            "      dtype='object')\n"
          ],
          "name": "stdout"
        }
      ]
    },
    {
      "cell_type": "code",
      "metadata": {
        "id": "Hacto6HIIiK6",
        "colab": {
          "base_uri": "https://localhost:8080/"
        },
        "outputId": "a8b0b4c7-a5b0-488f-dace-3083079e699e"
      },
      "source": [
        "print_linha_coluna(dfy)"
      ],
      "execution_count": null,
      "outputs": [
        {
          "output_type": "stream",
          "text": [
            "      Next_Tmax\n",
            "0          29.1\n",
            "1          30.5\n",
            "2          31.1\n",
            "3          31.7\n",
            "4          31.2\n",
            "...         ...\n",
            "7745       27.6\n",
            "7746       28.0\n",
            "7747       28.3\n",
            "7748       28.6\n",
            "7749       27.8\n",
            "\n",
            "[7588 rows x 1 columns]\n",
            "\n",
            "DESCRICAO: \n",
            "O dataset apresenta: 1 colunas e 7588 linhas.\n",
            "\n",
            "Nomes das colunas: \n",
            "Index(['Next_Tmax'], dtype='object')\n"
          ],
          "name": "stdout"
        }
      ]
    },
    {
      "cell_type": "code",
      "metadata": {
        "id": "cIfwTwREHc4Q",
        "colab": {
          "base_uri": "https://localhost:8080/"
        },
        "outputId": "065bb44b-ff85-4832-82d9-29b8909d9f85"
      },
      "source": [
        "# Numpy transformation\n",
        "x = dfx.to_numpy()\n",
        "y = dfy.to_numpy()\n",
        "x.shape, y.shape"
      ],
      "execution_count": null,
      "outputs": [
        {
          "output_type": "execute_result",
          "data": {
            "text/plain": [
              "((7588, 22), (7588, 1))"
            ]
          },
          "metadata": {
            "tags": []
          },
          "execution_count": 11
        }
      ]
    },
    {
      "cell_type": "code",
      "metadata": {
        "id": "ajAbBXhkHaqs"
      },
      "source": [
        "# Centering and scaling convertion\n",
        "scaler = StandardScaler()\n",
        "\n",
        "x_hat = scaler.fit_transform(x)\n",
        "y_hat = y"
      ],
      "execution_count": null,
      "outputs": []
    },
    {
      "cell_type": "code",
      "metadata": {
        "id": "SE6lXMSjIsAq",
        "colab": {
          "base_uri": "https://localhost:8080/"
        },
        "outputId": "9b07b2ce-4c8c-488b-c41f-3d99bbcf4cc2"
      },
      "source": [
        "print('{} Médias:\\n {} \\n\\n{} Variação:\\n {}'.format(len(scaler.mean_), scaler.mean_, len(scaler.var_), scaler.var_))"
      ],
      "execution_count": null,
      "outputs": [
        {
          "output_type": "stream",
          "text": [
            "22 Médias:\n",
            " [1.30141012e+01 2.97483658e+01 2.31958092e+01 5.67249687e+01\n",
            " 8.83608234e+01 2.96201277e+01 2.35117862e+01 7.09409670e+00\n",
            " 6.24926063e+01 3.68510206e-01 3.55527541e-01 3.17546009e-01\n",
            " 2.98267580e-01 5.89007978e-01 4.80738362e-01 2.75006724e-01\n",
            " 2.65372529e-01 3.75447923e+01 1.26991420e+02 6.19181365e+01\n",
            " 1.25975489e+00 5.34372421e+03] \n",
            "\n",
            "22 Variação:\n",
            " [5.20906024e+01 8.80430545e+00 5.76346425e+00 2.13908032e+02\n",
            " 5.18253405e+01 8.66302725e+00 5.48695257e+00 4.73885124e+00\n",
            " 1.13460768e+03 6.87711400e-02 6.65148125e-02 6.24083147e-02\n",
            " 6.41990898e-02 3.71506222e+00 3.03878926e+00 1.31334168e+00\n",
            " 1.39141686e+00 2.54266726e-03 6.27493785e-03 2.95065689e+03\n",
            " 1.88418947e+00 1.84688707e+05]\n"
          ],
          "name": "stdout"
        }
      ]
    },
    {
      "cell_type": "markdown",
      "metadata": {
        "id": "d_66xrK0KGvj"
      },
      "source": [
        "# Regressores\n",
        "## Cross validation, medida de erro e busca de hiperparametros"
      ]
    },
    {
      "cell_type": "markdown",
      "metadata": {
        "id": "DUCUGZdbC8o5"
      },
      "source": [
        "### Linear"
      ]
    },
    {
      "cell_type": "code",
      "metadata": {
        "id": "8LzAApooDHL2",
        "colab": {
          "base_uri": "https://localhost:8080/"
        },
        "outputId": "217a4355-c560-412a-fac2-416de8fdb794"
      },
      "source": [
        "lrg = LinearRegression()\n",
        "scores_lrg = cross_validate(lrg, x_hat, y_hat, cv=5, scoring = 'neg_root_mean_squared_error', \n",
        "                        return_train_score =  True, return_estimator= True)\n",
        "print(\"Scores: {}\\nAcuracia de {:.2f} com desvio padrão de {:.2f}\".format(scores_lrg['test_score'], \n",
        "                                                                          scores_lrg['test_score'].mean(), \n",
        "                                                                          scores_lrg['test_score'].std()))"
      ],
      "execution_count": null,
      "outputs": [
        {
          "output_type": "stream",
          "text": [
            "Scores: [-1.45728827 -1.63874781 -1.45413013 -1.62441096 -1.7131539 ]\n",
            "Acuracia de -1.58 com desvio padrão de 0.10\n"
          ],
          "name": "stdout"
        }
      ]
    },
    {
      "cell_type": "code",
      "metadata": {
        "id": "9F7tuYWSHWYe",
        "colab": {
          "base_uri": "https://localhost:8080/",
          "height": 513
        },
        "outputId": "797b6dfa-5085-4f1d-b395-427d93d918f6"
      },
      "source": [
        "plt.figure(figsize=(8,8))\n",
        "quantidade = 150\n",
        "\n",
        "plt.plot(range(y_hat[:quantidade,0].shape[0]), y_hat[:quantidade,0], 'ro', linewidth=2, label=\"Real data\")\n",
        "plt.plot(range(y_hat[:quantidade,0].shape[0]), scores_lrg['estimator'][2].predict(x_hat)[0:quantidade], \n",
        "         'bx', linewidth=2, label=\"Prediction\")\n",
        "plt.title('Best prediction vs real data')\n",
        "plt.xlabel('Quantity')\n",
        "plt.ylabel('Value')\n",
        "plt.legend()\n",
        "\n",
        "\n",
        "plt.show()"
      ],
      "execution_count": null,
      "outputs": [
        {
          "output_type": "display_data",
          "data": {
            "image/png": "[encoded data removed]",
            "text/plain": [
              "<Figure size 576x576 with 1 Axes>"
            ]
          },
          "metadata": {
            "tags": [],
            "needs_background": "light"
          }
        }
      ]
    },
    {
      "cell_type": "markdown",
      "metadata": {
        "id": "f1aHAAWCIqts"
      },
      "source": [
        "### Linear com regularização L2\n",
        "\n",
        "Usaremos um modelo Ridge regression do sklearn para criar um modelo linear com regularização.\n",
        "A regressão Ridge aborda alguns dos problemas dos Mínimos Quadrados Ordinários, impondo uma penalidade no tamanho dos coeficientes.\n",
        "\n",
        "Este modelo resolve um modelo de regressão em que a função de perda é a função de mínimos quadrados lineares e a regularização é dada pela norma 12."
      ]
    },
    {
      "cell_type": "code",
      "metadata": {
        "id": "5lZnLD-LIwJx",
        "colab": {
          "base_uri": "https://localhost:8080/"
        },
        "outputId": "9953afcd-fe06-40bb-e440-bc92245bf24d"
      },
      "source": [
        "alphas = np.power(10, np.random.uniform(low=-3, high=3, size=(10,)))\n",
        "alphas.sort()\n",
        "\n",
        "scores_ridge = []\n",
        "\n",
        "for i, alpha in enumerate(alphas) :\n",
        "  ridge = Ridge(alpha)\n",
        "  scores_ridge.append(cross_validate(ridge, x_hat, y_hat, cv=5, scoring = 'neg_root_mean_squared_error', \n",
        "                        return_train_score =  True, return_estimator= True))\n",
        "  print('Step {}: {}'.format(i, -scores_ridge[i]['test_score']))"
      ],
      "execution_count": null,
      "outputs": [
        {
          "output_type": "stream",
          "text": [
            "Step 0: [1.45728787 1.63874812 1.45413022 1.6244106  1.71315372]\n",
            "Step 1: [1.4572455  1.63878109 1.45413912 1.62437222 1.7131345 ]\n",
            "Step 2: [1.45564824 1.64003883 1.4544839  1.62292558 1.7124185 ]\n",
            "Step 3: [1.45452641 1.64093962 1.45473701 1.62190984 1.7119257 ]\n",
            "Step 4: [1.451928   1.64308288 1.4553591  1.61955949 1.7108178 ]\n",
            "Step 5: [1.44871005 1.64585113 1.45620173 1.61665752 1.70951488]\n",
            "Step 6: [1.4177661  1.67983535 1.46923791 1.59176973 1.70201393]\n",
            "Step 7: [1.41312143 1.68617533 1.47210921 1.58920484 1.70177885]\n",
            "Step 8: [1.38961029 1.72411433 1.49187638 1.58830998 1.7040235 ]\n",
            "Step 9: [1.38617168 1.73079495 1.49582589 1.59086635 1.70488751]\n"
          ],
          "name": "stdout"
        }
      ]
    },
    {
      "cell_type": "code",
      "metadata": {
        "id": "rLODx5yXMqbC",
        "colab": {
          "base_uri": "https://localhost:8080/",
          "height": 513
        },
        "outputId": "055a2e98-2a36-448d-fd06-9e6d7c72cadf"
      },
      "source": [
        "plt.figure(figsize=(8,8))\n",
        "quantidade = 150\n",
        "\n",
        "plt.plot(range(y_hat[:quantidade,0].shape[0]), y_hat[:quantidade,0], 'ro', linewidth=2, label=\"Real data\")\n",
        "plt.plot(range(y_hat[:quantidade,0].shape[0]), scores_ridge[4]['estimator'][0].predict(x_hat)[0:quantidade], \n",
        "         'bx', linewidth=2, label=\"Prediction\")\n",
        "plt.title('Best prediction vs Real data')\n",
        "plt.xlabel('Quantity')\n",
        "plt.ylabel('Value')\n",
        "plt.legend()\n",
        "\n",
        "\n",
        "plt.show()"
      ],
      "execution_count": null,
      "outputs": [
        {
          "output_type": "display_data",
          "data": {
            "image/png": "[encoded data removed]",
            "text/plain": [
              "<Figure size 576x576 with 1 Axes>"
            ]
          },
          "metadata": {
            "tags": [],
            "needs_background": "light"
          }
        }
      ]
    },
    {
      "cell_type": "markdown",
      "metadata": {
        "id": "XPP8aIzROrs2"
      },
      "source": [
        "### Linear com regularização L1\n",
        "\n",
        "Usaremos um modelo LassoCV regression do sklearn para criar um modelo linear com regularização. LassoCV é um modelo linear de Lasso com ajuste iterativo ao longo de um caminho de regularização. O melhor modelo é selecionado por validação cruzada\n",
        "\n",
        "O Lasso é um modelo linear que estima coeficientes esparsos. É útil em alguns contextos devido à tendência de preferir soluções com menos coeficientes diferentes de zero, reduzindo efetivamente o número de recursos dos quais a solução dada é dependente.\n",
        "\n",
        "A estimativa de Lasso, portanto, resolve a minimização da penalidade de mínimos quadrados, onde alfa é uma constante e o peso é a norma l1 do vetor de coeficientes."
      ]
    },
    {
      "cell_type": "code",
      "metadata": {
        "id": "0uoO3KQmPIgV",
        "colab": {
          "base_uri": "https://localhost:8080/"
        },
        "outputId": "bece2fb8-a6d0-4940-ed0d-457d9d0f1dc9"
      },
      "source": [
        "alphas = np.power(10, np.random.uniform(low=-3, high=3, size=(10,)))\n",
        "alphas.sort()\n",
        "\n",
        "scores_lasso = []\n",
        "\n",
        "lasso = LassoCV(cv=5, alphas = alphas).fit(x_hat, y_hat)\n",
        "y_pred = lasso.predict(x_hat)\n",
        "mean_squared_error(y_hat, y_pred, squared=True)"
      ],
      "execution_count": null,
      "outputs": [
        {
          "output_type": "execute_result",
          "data": {
            "text/plain": [
              "2.1326735405310964"
            ]
          },
          "metadata": {
            "tags": []
          },
          "execution_count": 18
        }
      ]
    },
    {
      "cell_type": "code",
      "metadata": {
        "id": "_eQihcNWSty6",
        "colab": {
          "base_uri": "https://localhost:8080/"
        },
        "outputId": "8bff3092-c85f-4c20-8993-4c102baa1bfa"
      },
      "source": [
        "alphas = np.power(10, np.random.uniform(low=-3, high=3, size=(10,)))\n",
        "alphas.sort()\n",
        "\n",
        "scores_lasso = []\n",
        "\n",
        "for i, alpha in enumerate(alphas) :\n",
        "  lasso = Lasso(alpha)\n",
        "  scores_lasso.append(cross_validate(lasso, x_hat, y_hat, cv=5, scoring = 'neg_root_mean_squared_error', \n",
        "                        return_train_score =  True, return_estimator= True))\n",
        "  print('Step {}: {}'.format(i, -scores_lasso[i]['test_score']))"
      ],
      "execution_count": null,
      "outputs": [
        {
          "output_type": "stream",
          "text": [
            "Step 0: [1.45524761 1.63954347 1.45348063 1.62283895 1.71205179]\n",
            "Step 1: [1.45380459 1.64020681 1.45306032 1.62175207 1.71129485]\n",
            "Step 2: [1.45323097 1.64047442 1.45289787 1.62132496 1.71099871]\n",
            "Step 3: [1.45187465 1.64115383 1.45249443 1.62029393 1.71028419]\n",
            "Step 4: [1.42489183 1.65531262 1.45350997 1.60983369 1.69867013]\n",
            "Step 5: [2.67754058 2.96770283 2.65592688 3.94030736 3.2712581 ]\n",
            "Step 6: [2.67754058 2.96770283 2.65592688 3.94030736 3.2712581 ]\n",
            "Step 7: [2.67754058 2.96770283 2.65592688 3.94030736 3.2712581 ]\n",
            "Step 8: [2.67754058 2.96770283 2.65592688 3.94030736 3.2712581 ]\n",
            "Step 9: [2.67754058 2.96770283 2.65592688 3.94030736 3.2712581 ]\n"
          ],
          "name": "stdout"
        }
      ]
    },
    {
      "cell_type": "code",
      "metadata": {
        "id": "qRelFMVzPPtN",
        "colab": {
          "base_uri": "https://localhost:8080/",
          "height": 513
        },
        "outputId": "60da26c1-15cd-40c4-c59d-ef72b107310f"
      },
      "source": [
        "plt.figure(figsize=(8,8))\n",
        "quantidade = 150\n",
        "\n",
        "plt.plot(range(y_hat[:quantidade,0].shape[0]), y_hat[:quantidade,0], 'ro', linewidth=2, label=\"Real data\")\n",
        "plt.plot(range(y_hat[:quantidade,0].shape[0]), scores_lasso[4]['estimator'][2].predict(x_hat)[0:quantidade], \n",
        "         'bx', linewidth=2, label=\"Prediction\")\n",
        "plt.title('Best prediction vs Real data')\n",
        "plt.xlabel('Quantity')\n",
        "plt.ylabel('Value')\n",
        "plt.legend()\n",
        "\n",
        "\n",
        "plt.show()"
      ],
      "execution_count": null,
      "outputs": [
        {
          "output_type": "display_data",
          "data": {
            "image/png": "[encoded data removed]",
            "text/plain": [
              "<Figure size 576x576 with 1 Axes>"
            ]
          },
          "metadata": {
            "tags": [],
            "needs_background": "light"
          }
        }
      ]
    },
    {
      "cell_type": "markdown",
      "metadata": {
        "id": "kkL_Zqpj06hp"
      },
      "source": [
        "### SVM Linear"
      ]
    },
    {
      "cell_type": "code",
      "metadata": {
        "id": "q7NFfTqc09r2"
      },
      "source": [
        "epsilons = np.random.choice([0.1, 0.3], size=10)\n",
        "Cs = np.power(2, np.random.uniform(low=-5, high=15, size=(10,)))\n",
        "\n",
        "for C, epsilon in zip(epsilons, Cs):\n",
        "  svm = SVR(kernel = 'linear', C = C, epsilon = epsilon)\n",
        "  svm.fit(x_hat, y_hat)"
      ],
      "execution_count": null,
      "outputs": []
    },
    {
      "cell_type": "code",
      "metadata": {
        "id": "q5tftnKU2HiQ",
        "colab": {
          "base_uri": "https://localhost:8080/"
        },
        "outputId": "73c3e0cb-1f5c-40f0-d51b-f3dcb4a1b811"
      },
      "source": [
        "svm"
      ],
      "execution_count": null,
      "outputs": [
        {
          "output_type": "execute_result",
          "data": {
            "text/plain": [
              "SVR(C=0.3, cache_size=200, coef0=0.0, degree=3, epsilon=6.4973931360103805,\n",
              "    gamma='scale', kernel='linear', max_iter=-1, shrinking=True, tol=0.001,\n",
              "    verbose=False)"
            ]
          },
          "metadata": {
            "tags": []
          },
          "execution_count": 26
        }
      ]
    },
    {
      "cell_type": "code",
      "metadata": {
        "id": "0w3adXr62Gc3"
      },
      "source": [
        "print('Test score SVM: {}'.format(-scores_svm['test_score']))"
      ],
      "execution_count": null,
      "outputs": []
    }
  ]
}