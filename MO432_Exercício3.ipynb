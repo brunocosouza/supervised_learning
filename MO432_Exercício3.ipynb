{
  "nbformat": 4,
  "nbformat_minor": 0,
  "metadata": {
    "colab": {
      "name": "MO432_Exercício3.ipynb",
      "provenance": [],
      "collapsed_sections": [],
      "authorship_tag": "ABX9TyMhFsNRRUM8x6ofReLXc0ak",
      "include_colab_link": true
    },
    "kernelspec": {
      "name": "python3",
      "display_name": "Python 3"
    },
    "language_info": {
      "name": "python"
    }
  },
  "cells": [
    {
      "cell_type": "markdown",
      "metadata": {
        "id": "view-in-github",
        "colab_type": "text"
      },
      "source": [
        "<a href=\"https://colab.research.google.com/github/brunocosouza/supervised_learning/blob/main/MO432_Exerc%C3%ADcio3.ipynb\" target=\"_parent\"><img src=\"https://colab.research.google.com/assets/colab-badge.svg\" alt=\"Open In Colab\"/></a>"
      ]
    },
    {
      "cell_type": "markdown",
      "metadata": {
        "id": "ZxtRlcXl3RwS"
      },
      "source": [
        "<h1>MO432 - Atividade 2</h1>\n",
        "\n",
        "RA234837 - Bruno César de Oliveira Souza\n",
        "\n",
        "RA065068 - Walker Humberto Batista\n",
        "\n",
        "https://www.tensorflow.org/tutorials/structured_data/time_series"
      ]
    },
    {
      "cell_type": "markdown",
      "metadata": {
        "id": "JEWabI8sTE9M"
      },
      "source": [
        "# Gold price forecast"
      ]
    },
    {
      "cell_type": "code",
      "metadata": {
        "id": "LHLxplTs3ipr"
      },
      "source": [
        "import pandas as pd\n",
        "import numpy as np\n",
        "\n",
        "import tensorflow as tf\n",
        "\n",
        "import matplotlib\n",
        "import matplotlib.pyplot as plt\n",
        "\n",
        "import IPython\n",
        "import IPython.display\n",
        "\n",
        "import warnings\n",
        "warnings.filterwarnings('ignore')"
      ],
      "execution_count": null,
      "outputs": []
    },
    {
      "cell_type": "code",
      "metadata": {
        "id": "6uuIOZWs3YzD"
      },
      "source": [
        "# Reading data into Series pandas dataframe\n",
        "df_raw = pd.read_csv('https://www.ic.unicamp.br/~wainer/cursos/1s2021/432/ouro2.csv', index_col = 0)"
      ],
      "execution_count": null,
      "outputs": []
    },
    {
      "cell_type": "code",
      "metadata": {
        "colab": {
          "base_uri": "https://localhost:8080/",
          "height": 445
        },
        "id": "FVFOz7iF3rL6",
        "outputId": "1c2ba346-6fa2-4192-dce2-fde6988ff5c1"
      },
      "source": [
        "# Invert Series\n",
        "df_raw.index = pd.to_datetime(df_raw.index, format='%d/%m/%Y')\n",
        "df_raw"
      ],
      "execution_count": null,
      "outputs": [
        {
          "output_type": "execute_result",
          "data": {
            "text/html": [
              "<div>\n",
              "<style scoped>\n",
              "    .dataframe tbody tr th:only-of-type {\n",
              "        vertical-align: middle;\n",
              "    }\n",
              "\n",
              "    .dataframe tbody tr th {\n",
              "        vertical-align: top;\n",
              "    }\n",
              "\n",
              "    .dataframe thead th {\n",
              "        text-align: right;\n",
              "    }\n",
              "</style>\n",
              "<table border=\"1\" class=\"dataframe\">\n",
              "  <thead>\n",
              "    <tr style=\"text-align: right;\">\n",
              "      <th></th>\n",
              "      <th>Valor</th>\n",
              "    </tr>\n",
              "    <tr>\n",
              "      <th>Data</th>\n",
              "      <th></th>\n",
              "    </tr>\n",
              "  </thead>\n",
              "  <tbody>\n",
              "    <tr>\n",
              "      <th>2021-06-13</th>\n",
              "      <td>1868.0</td>\n",
              "    </tr>\n",
              "    <tr>\n",
              "      <th>2021-06-06</th>\n",
              "      <td>1879.6</td>\n",
              "    </tr>\n",
              "    <tr>\n",
              "      <th>2021-05-30</th>\n",
              "      <td>1892.0</td>\n",
              "    </tr>\n",
              "    <tr>\n",
              "      <th>2021-05-23</th>\n",
              "      <td>1905.3</td>\n",
              "    </tr>\n",
              "    <tr>\n",
              "      <th>2021-05-16</th>\n",
              "      <td>1878.9</td>\n",
              "    </tr>\n",
              "    <tr>\n",
              "      <th>...</th>\n",
              "      <td>...</td>\n",
              "    </tr>\n",
              "    <tr>\n",
              "      <th>2000-07-16</th>\n",
              "      <td>280.1</td>\n",
              "    </tr>\n",
              "    <tr>\n",
              "      <th>2000-07-09</th>\n",
              "      <td>281.1</td>\n",
              "    </tr>\n",
              "    <tr>\n",
              "      <th>2000-07-02</th>\n",
              "      <td>283.2</td>\n",
              "    </tr>\n",
              "    <tr>\n",
              "      <th>2000-06-25</th>\n",
              "      <td>290.1</td>\n",
              "    </tr>\n",
              "    <tr>\n",
              "      <th>2000-06-18</th>\n",
              "      <td>282.7</td>\n",
              "    </tr>\n",
              "  </tbody>\n",
              "</table>\n",
              "<p>1096 rows × 1 columns</p>\n",
              "</div>"
            ],
            "text/plain": [
              "             Valor\n",
              "Data              \n",
              "2021-06-13  1868.0\n",
              "2021-06-06  1879.6\n",
              "2021-05-30  1892.0\n",
              "2021-05-23  1905.3\n",
              "2021-05-16  1878.9\n",
              "...            ...\n",
              "2000-07-16   280.1\n",
              "2000-07-09   281.1\n",
              "2000-07-02   283.2\n",
              "2000-06-25   290.1\n",
              "2000-06-18   282.7\n",
              "\n",
              "[1096 rows x 1 columns]"
            ]
          },
          "metadata": {
            "tags": []
          },
          "execution_count": 83
        }
      ]
    },
    {
      "cell_type": "code",
      "metadata": {
        "id": "kl5BHxHM7tcv",
        "colab": {
          "base_uri": "https://localhost:8080/"
        },
        "outputId": "2b05bdd1-b917-4619-c0f2-065a51fd0909"
      },
      "source": [
        "df = df_raw.sort_values('Data')\n",
        "df['Valor']"
      ],
      "execution_count": null,
      "outputs": [
        {
          "output_type": "execute_result",
          "data": {
            "text/plain": [
              "Data\n",
              "2000-06-18     282.7\n",
              "2000-06-25     290.1\n",
              "2000-07-02     283.2\n",
              "2000-07-09     281.1\n",
              "2000-07-16     280.1\n",
              "               ...  \n",
              "2021-05-16    1878.9\n",
              "2021-05-23    1905.3\n",
              "2021-05-30    1892.0\n",
              "2021-06-06    1879.6\n",
              "2021-06-13    1868.0\n",
              "Name: Valor, Length: 1096, dtype: float64"
            ]
          },
          "metadata": {
            "tags": []
          },
          "execution_count": 84
        }
      ]
    },
    {
      "cell_type": "code",
      "metadata": {
        "colab": {
          "base_uri": "https://localhost:8080/",
          "height": 513
        },
        "id": "oicK8oOo40JM",
        "outputId": "60f308f4-7f57-45fd-ed71-1f9f39bd3b38"
      },
      "source": [
        "plt.figure(figsize=(10,8))\n",
        "plt.plot(df.index.values, df.values, 'rx', linewidth=1, label=\"Real data\")\n",
        "plt.title('Preço do ouro por semana')\n",
        "plt.xlabel('Data')\n",
        "plt.ylabel('Value')\n",
        "plt.legend()\n",
        "plt.show()"
      ],
      "execution_count": null,
      "outputs": [
        {
          "output_type": "display_data",
          "data": {
            "image/png": "[encoded data removed]",
            "text/plain": [
              "<Figure size 720x576 with 1 Axes>"
            ]
          },
          "metadata": {
            "tags": [],
            "needs_background": "light"
          }
        }
      ]
    },
    {
      "cell_type": "code",
      "metadata": {
        "id": "tP6JrTb18yOo",
        "colab": {
          "base_uri": "https://localhost:8080/",
          "height": 445
        },
        "outputId": "a0398e84-0caa-4fbc-b189-7d523276e56f"
      },
      "source": [
        "# Divisão 70%, 20% e 10%\n",
        "n = len(df)\n",
        "train_df = df[0:int(n*0.7)]\n",
        "val_df = df[int(n*0.7):int(n*0.909)]\n",
        "test_df = df[int(n*0.909):]\n",
        "\n",
        "num_features = df.shape[1]\n",
        "df"
      ],
      "execution_count": null,
      "outputs": [
        {
          "output_type": "execute_result",
          "data": {
            "text/html": [
              "<div>\n",
              "<style scoped>\n",
              "    .dataframe tbody tr th:only-of-type {\n",
              "        vertical-align: middle;\n",
              "    }\n",
              "\n",
              "    .dataframe tbody tr th {\n",
              "        vertical-align: top;\n",
              "    }\n",
              "\n",
              "    .dataframe thead th {\n",
              "        text-align: right;\n",
              "    }\n",
              "</style>\n",
              "<table border=\"1\" class=\"dataframe\">\n",
              "  <thead>\n",
              "    <tr style=\"text-align: right;\">\n",
              "      <th></th>\n",
              "      <th>Valor</th>\n",
              "    </tr>\n",
              "    <tr>\n",
              "      <th>Data</th>\n",
              "      <th></th>\n",
              "    </tr>\n",
              "  </thead>\n",
              "  <tbody>\n",
              "    <tr>\n",
              "      <th>2000-06-18</th>\n",
              "      <td>282.7</td>\n",
              "    </tr>\n",
              "    <tr>\n",
              "      <th>2000-06-25</th>\n",
              "      <td>290.1</td>\n",
              "    </tr>\n",
              "    <tr>\n",
              "      <th>2000-07-02</th>\n",
              "      <td>283.2</td>\n",
              "    </tr>\n",
              "    <tr>\n",
              "      <th>2000-07-09</th>\n",
              "      <td>281.1</td>\n",
              "    </tr>\n",
              "    <tr>\n",
              "      <th>2000-07-16</th>\n",
              "      <td>280.1</td>\n",
              "    </tr>\n",
              "    <tr>\n",
              "      <th>...</th>\n",
              "      <td>...</td>\n",
              "    </tr>\n",
              "    <tr>\n",
              "      <th>2021-05-16</th>\n",
              "      <td>1878.9</td>\n",
              "    </tr>\n",
              "    <tr>\n",
              "      <th>2021-05-23</th>\n",
              "      <td>1905.3</td>\n",
              "    </tr>\n",
              "    <tr>\n",
              "      <th>2021-05-30</th>\n",
              "      <td>1892.0</td>\n",
              "    </tr>\n",
              "    <tr>\n",
              "      <th>2021-06-06</th>\n",
              "      <td>1879.6</td>\n",
              "    </tr>\n",
              "    <tr>\n",
              "      <th>2021-06-13</th>\n",
              "      <td>1868.0</td>\n",
              "    </tr>\n",
              "  </tbody>\n",
              "</table>\n",
              "<p>1096 rows × 1 columns</p>\n",
              "</div>"
            ],
            "text/plain": [
              "             Valor\n",
              "Data              \n",
              "2000-06-18   282.7\n",
              "2000-06-25   290.1\n",
              "2000-07-02   283.2\n",
              "2000-07-09   281.1\n",
              "2000-07-16   280.1\n",
              "...            ...\n",
              "2021-05-16  1878.9\n",
              "2021-05-23  1905.3\n",
              "2021-05-30  1892.0\n",
              "2021-06-06  1879.6\n",
              "2021-06-13  1868.0\n",
              "\n",
              "[1096 rows x 1 columns]"
            ]
          },
          "metadata": {
            "tags": []
          },
          "execution_count": 86
        }
      ]
    },
    {
      "cell_type": "code",
      "metadata": {
        "id": "d9wbjk1I9g39"
      },
      "source": [
        "#Normalize \n",
        "train_mean = train_df.mean()\n",
        "train_std = train_df.std()\n",
        "\n",
        "train_df = (train_df - train_mean) / train_std\n",
        "val_df = (val_df - train_mean) / train_std\n",
        "test_df = (test_df - train_mean) / train_std"
      ],
      "execution_count": null,
      "outputs": []
    },
    {
      "cell_type": "code",
      "metadata": {
        "id": "dLxnHduRgRC5"
      },
      "source": [
        "def desnormalization(inputs):\n",
        "    return inputs * train_std + train_mean"
      ],
      "execution_count": null,
      "outputs": []
    },
    {
      "cell_type": "code",
      "metadata": {
        "colab": {
          "base_uri": "https://localhost:8080/"
        },
        "id": "TTUPb0vwn5rg",
        "outputId": "bf2bc6e9-dd02-49a3-bd42-53ae43c2ecd3"
      },
      "source": [
        "print('All shapes are :')\n",
        "print(f'Train: {train_df.shape}')\n",
        "print(f'Val: {val_df.shape}')\n",
        "print(f'Test: {test_df.shape}')"
      ],
      "execution_count": null,
      "outputs": [
        {
          "output_type": "stream",
          "text": [
            "All shapes are :\n",
            "Train: (767, 1)\n",
            "Val: (229, 1)\n",
            "Test: (100, 1)\n"
          ],
          "name": "stdout"
        }
      ]
    },
    {
      "cell_type": "code",
      "metadata": {
        "id": "vuUTEHb69jTG"
      },
      "source": [
        "class WindowGenerator():\n",
        "  def __init__(self, input_width, label_width, shift,\n",
        "               train_df=train_df, val_df=val_df, test_df=test_df,\n",
        "               label_columns=None):\n",
        "    # Store the raw data.\n",
        "    self.train_df = train_df\n",
        "    self.val_df = val_df\n",
        "    self.test_df = test_df\n",
        "\n",
        "    # Work out the label column indices.\n",
        "    self.label_columns = label_columns\n",
        "    if label_columns is not None:\n",
        "      self.label_columns_indices = {name: i for i, name in\n",
        "                                    enumerate(label_columns)}\n",
        "    self.column_indices = {name: i for i, name in\n",
        "                           enumerate(train_df.columns)}\n",
        "\n",
        "    # Work out the window parameters.\n",
        "    self.input_width = input_width\n",
        "    self.label_width = label_width\n",
        "    self.shift = shift\n",
        "\n",
        "    self.total_window_size = input_width + shift\n",
        "\n",
        "    self.input_slice = slice(0, input_width)\n",
        "    self.input_indices = np.arange(self.total_window_size)[self.input_slice]\n",
        "\n",
        "    self.label_start = self.total_window_size - self.label_width\n",
        "    self.labels_slice = slice(self.label_start, None)\n",
        "    self.label_indices = np.arange(self.total_window_size)[self.labels_slice]\n",
        "\n",
        "  def __repr__(self):\n",
        "    return '\\n'.join([\n",
        "        f'Total window size: {self.total_window_size}',\n",
        "        f'Input indices: {self.input_indices}',\n",
        "        f'Label indices: {self.label_indices}',\n",
        "        f'Label column name(s): {self.label_columns}'])\n",
        "    \n",
        "  def split_window(self, features):\n",
        "    inputs = features[:, self.input_slice, :]\n",
        "    labels = features[:, self.labels_slice, :]\n",
        "    if self.label_columns is not None:\n",
        "      labels = tf.stack(\n",
        "        [labels[:, :, self.column_indices[name]] for name in self.label_columns],\n",
        "        axis=-1)\n",
        "    # Slicing doesn't preserve static shape information, so set the shapes\n",
        "    # manually. This way the `tf.data.Datasets` are easier to inspect.\n",
        "    inputs.set_shape([None, self.input_width, None])\n",
        "    labels.set_shape([None, self.label_width, None])\n",
        "\n",
        "    return inputs, labels\n",
        "\n",
        "  def plot(self, model=None, plot_col='Valor', max_subplots=3):\n",
        "    inputs, labels = self.example\n",
        "    inputs = desnormalization(inputs)\n",
        "    labels = desnormalization(labels)\n",
        "    plt.figure(figsize=(12, 8))\n",
        "    plot_col_index = self.column_indices[plot_col]\n",
        "    max_n = min(max_subplots, len(inputs))\n",
        "    for n in range(1):\n",
        "      plt.subplot(max_n, 1, n+1)\n",
        "      plt.ylabel(f'{plot_col} [normed]')\n",
        "      plt.plot(self.input_indices, inputs[n, :, plot_col_index],\n",
        "              label='Inputs', marker='.', zorder=-10)\n",
        "\n",
        "      if self.label_columns:\n",
        "        label_col_index = self.label_columns_indices.get(plot_col, None)\n",
        "      else:\n",
        "        label_col_index = plot_col_index\n",
        "\n",
        "      if label_col_index is None:\n",
        "        continue\n",
        "\n",
        "      plt.scatter(self.label_indices, labels[n, :, label_col_index],\n",
        "                  edgecolors='k', label='Labels', c='#2ca02c', s=64)\n",
        "      if model is not None:\n",
        "        predictions = model(inputs)\n",
        "        plt.scatter(self.label_indices, predictions[n, :, label_col_index],\n",
        "                    marker='X', edgecolors='k', label='Predictions',\n",
        "                    c='#ff7f0e', s=64)\n",
        "\n",
        "      if n == 0:\n",
        "        plt.legend()\n",
        "\n",
        "    plt.xlabel('Time [week]')\n",
        "\n",
        "  def plot_prediction(self, model=None, plot_col='Valor', max_subplots=3):\n",
        "    inputs, labels = next(iter(self.test))\n",
        "    inputs_des = desnormalization(inputs)\n",
        "    labels_des = desnormalization(labels)\n",
        "    plt.figure(figsize=(12, 8))\n",
        "    plot_col_index = self.column_indices[plot_col]\n",
        "    max_n = min(max_subplots, len(inputs))\n",
        "    for n in range(max_n):\n",
        "      plt.subplot(max_n, 1, n+1)\n",
        "      plt.ylabel(f'{plot_col} [normed]')\n",
        "      plt.plot(self.input_indices, inputs_des[n, :, plot_col_index],\n",
        "              label='Inputs', marker='.', zorder=-10)\n",
        "\n",
        "      if self.label_columns:\n",
        "        label_col_index = self.label_columns_indices.get(plot_col, None)\n",
        "      else:\n",
        "        label_col_index = plot_col_index\n",
        "\n",
        "      if label_col_index is None:\n",
        "        continue\n",
        "\n",
        "      plt.scatter(self.label_indices, labels_des[n, :, label_col_index],\n",
        "                  edgecolors='k', label='Labels', c='#2ca02c', s=64)\n",
        "      if model is not None:\n",
        "        predictions = model(inputs)\n",
        "        predictions = desnormalization(predictions, train=False)\n",
        "        plt.scatter(self.label_indices, predictions[n, :, label_col_index],\n",
        "                    marker='X', edgecolors='k', label='Predictions',\n",
        "                    c='#ff7f0e', s=64)\n",
        "\n",
        "      if n == 0:\n",
        "        plt.legend()\n",
        "\n",
        "    plt.xlabel('Time [week]')\n",
        "\n",
        "  def make_dataset(self, data):\n",
        "    data = np.array(data, dtype=np.float32)\n",
        "    ds = tf.keras.preprocessing.timeseries_dataset_from_array(\n",
        "        data=data,\n",
        "        targets=None,\n",
        "        sequence_length=self.total_window_size,\n",
        "        sequence_stride=1,\n",
        "        shuffle=True,\n",
        "        batch_size=32,)\n",
        "\n",
        "    ds = ds.map(self.split_window)\n",
        "\n",
        "    return ds\n",
        "\n",
        "  @property\n",
        "  def train(self):\n",
        "    return self.make_dataset(self.train_df)\n",
        "\n",
        "  @property\n",
        "  def val(self):\n",
        "    return self.make_dataset(self.val_df)\n",
        "\n",
        "  @property\n",
        "  def test(self):\n",
        "    return self.make_dataset(self.test_df)\n",
        "\n",
        "  @property\n",
        "  def example(self):\n",
        "    \"\"\"Get and cache an example batch of `inputs, labels` for plotting.\"\"\"\n",
        "    result = getattr(self, '_example', None)\n",
        "    if result is None:\n",
        "      # No example batch was found, so get one from the `.train` dataset\n",
        "      result = next(iter(self.train))\n",
        "      # And cache it for next time\n",
        "      self._example = result\n",
        "    return result"
      ],
      "execution_count": null,
      "outputs": []
    },
    {
      "cell_type": "code",
      "metadata": {
        "id": "l0dUiBvYqQjJ"
      },
      "source": [
        "def make_dataset(self, data):\n",
        "  data = np.array(data, dtype=np.float32)\n",
        "  ds = tf.keras.preprocessing.timeseries_dataset_from_array(\n",
        "      data=data,\n",
        "      targets=None,\n",
        "      sequence_length=self.total_window_size,\n",
        "      sequence_stride=1,\n",
        "      shuffle=True,\n",
        "      batch_size=32,)\n",
        "\n",
        "  ds = ds.map(self.split_window)\n",
        "\n",
        "  return ds\n",
        "\n",
        "@property\n",
        "def train(self):\n",
        "  return self.make_dataset(self.train_df)\n",
        "\n",
        "@property\n",
        "def val(self):\n",
        "  return self.make_dataset(self.val_df)\n",
        "\n",
        "@property\n",
        "def test(self):\n",
        "  return self.make_dataset(self.test_df)\n",
        "\n",
        "@property\n",
        "def example(self):\n",
        "  \"\"\"Get and cache an example batch of `inputs, labels` for plotting.\"\"\"\n",
        "  result = getattr(self, '_example', None)\n",
        "  if result is None:\n",
        "    # No example batch was found, so get one from the `.train` dataset\n",
        "    result = next(iter(self.train))\n",
        "    # And cache it for next time\n",
        "    self._example = result\n",
        "  return result\n",
        "\n",
        "WindowGenerator.make_dataset = make_dataset\n",
        "WindowGenerator.train = train\n",
        "WindowGenerator.val = val\n",
        "WindowGenerator.test = test\n",
        "WindowGenerator.example = example"
      ],
      "execution_count": null,
      "outputs": []
    },
    {
      "cell_type": "code",
      "metadata": {
        "id": "Px82naFn1Kpo"
      },
      "source": [
        "MAX_EPOCHS = 10\n",
        "\n",
        "def compile_and_fit(model, window, patience=2):\n",
        "  early_stopping = tf.keras.callbacks.EarlyStopping(monitor='val_loss',\n",
        "                                                    patience=patience,\n",
        "                                                    mode='min')\n",
        "\n",
        "  model.compile(loss=tf.losses.MeanSquaredError(),\n",
        "                optimizer=tf.optimizers.Adam(),\n",
        "                metrics=[tf.metrics.MeanAbsoluteError()])\n",
        "\n",
        "  history = model.fit(window.train, epochs=MAX_EPOCHS,\n",
        "                      validation_data=window.val,\n",
        "                      callbacks=[early_stopping])\n",
        "  return history"
      ],
      "execution_count": null,
      "outputs": []
    },
    {
      "cell_type": "code",
      "metadata": {
        "id": "Us6zJ1copIMK"
      },
      "source": [
        "wide_window = WindowGenerator(\n",
        "    input_width=99, label_width=99, shift=1,\n",
        "    label_columns=['Valor'])"
      ],
      "execution_count": null,
      "outputs": []
    },
    {
      "cell_type": "code",
      "metadata": {
        "colab": {
          "base_uri": "https://localhost:8080/"
        },
        "id": "EyJ9czoc_Rxm",
        "outputId": "a367b99f-15e7-4b57-8e8c-c3840c08bab9"
      },
      "source": [
        "x , y = next(iter(wide_window.test))\n",
        "inputs_s = desnormalization(x)\n",
        "inputs_s[0, :, 0]"
      ],
      "execution_count": null,
      "outputs": [
        {
          "output_type": "execute_result",
          "data": {
            "text/plain": [
              "<tf.Tensor: shape=(99,), dtype=float32, numpy=\n",
              "array([1460.4   , 1485.3   , 1534.5   , 1549.2   , 1563.5   , 1557.2   ,\n",
              "       1543.3   , 1530.7   , 1545.3   , 1548.3   , 1551.9   , 1529.8   ,\n",
              "       1535.    , 1547.7   , 1554.4   , 1510.4   , 1513.6001, 1508.    ,\n",
              "       1510.7   , 1504.2001, 1523.    , 1523.1001, 1561.2   , 1596.4   ,\n",
              "       1603.3   , 1603.4   , 1615.4   , 1626.1001, 1612.8   , 1624.1001,\n",
              "       1686.3   , 1596.6001, 1691.6   , 1532.2   , 1501.4   , 1661.    ,\n",
              "       1650.1001, 1755.4   , 1705.6001, 1745.6001, 1717.8   , 1748.3   ,\n",
              "       1786.2001, 1770.8   , 1773.8   , 1716.    , 1768.1001, 1782.1   ,\n",
              "       1810.8   , 1825.    , 1852.    , 1854.3   , 1957.5   , 2017.1   ,\n",
              "       2061.4   , 1976.8   , 1969.6   , 1993.2001, 1952.8   , 1967.4   ,\n",
              "       1981.9   , 1884.8   , 1926.6001, 1947.8   , 1928.3   , 1926.4   ,\n",
              "       1899.9   , 1973.    , 1906.3   , 1888.2   , 1797.5   , 1849.    ,\n",
              "       1853.1   , 1898.2001, 1893.1   , 1905.8   , 1845.4   , 1839.    ,\n",
              "       1864.8   , 1854.7001, 1817.8   , 1828.1001, 1782.2   , 1734.    ,\n",
              "       1703.8   , 1724.3   , 1745.8   , 1736.5   , 1730.3   , 1746.8   ,\n",
              "       1782.2   , 1779.9   , 1769.8   , 1833.5   , 1840.    , 1878.9   ,\n",
              "       1905.3   , 1892.    , 1879.6001], dtype=float32)>"
            ]
          },
          "metadata": {
            "tags": []
          },
          "execution_count": 94
        }
      ]
    },
    {
      "cell_type": "code",
      "metadata": {
        "id": "Mk1xlDjyqcpP",
        "colab": {
          "base_uri": "https://localhost:8080/"
        },
        "outputId": "2bee4da8-55e1-499d-fbb8-46047e333823"
      },
      "source": [
        "# Model\n",
        "lstm_model = tf.keras.models.Sequential([\n",
        "    # Shape [batch, time, features] => [batch, time, lstm_units]\n",
        "    tf.keras.layers.LSTM(32, return_sequences=True),\n",
        "    # Shape => [batch, time, features]\n",
        "    tf.keras.layers.Dense(units=1)\n",
        "])\n",
        "\n",
        "\n",
        "print('Input shape:', wide_window.example[0].shape)\n",
        "print('Output shape:', lstm_model(wide_window.example[0]).shape)"
      ],
      "execution_count": null,
      "outputs": [
        {
          "output_type": "stream",
          "text": [
            "Input shape: (32, 99, 1)\n",
            "Output shape: (32, 99, 1)\n"
          ],
          "name": "stdout"
        }
      ]
    },
    {
      "cell_type": "code",
      "metadata": {
        "colab": {
          "base_uri": "https://localhost:8080/"
        },
        "id": "cEX_fCwZtr71",
        "outputId": "f941308d-28dd-4c4b-cabb-e708e4915ba7"
      },
      "source": [
        "val_performance = {}\n",
        "performance = {}\n",
        "\n",
        "history = compile_and_fit(lstm_model, wide_window)\n",
        "\n",
        "IPython.display.clear_output()\n",
        "val_performance['LSTM'] = lstm_model.evaluate(wide_window.val)\n",
        "performance['LSTM'] = lstm_model.evaluate(wide_window.test, verbose=0)"
      ],
      "execution_count": null,
      "outputs": [
        {
          "output_type": "stream",
          "text": [
            "5/5 [==============================] - 0s 8ms/step - loss: 0.0368 - mean_absolute_error: 0.1420\n"
          ],
          "name": "stdout"
        }
      ]
    },
    {
      "cell_type": "markdown",
      "metadata": {
        "id": "DtRAFkgSTEnm"
      },
      "source": [
        ""
      ]
    },
    {
      "cell_type": "code",
      "metadata": {
        "colab": {
          "base_uri": "https://localhost:8080/",
          "height": 496
        },
        "id": "2S8AZdTqIjtP",
        "outputId": "4907cc4c-c3f2-4a88-c23f-bf87b99e160f"
      },
      "source": [
        "wide_window.plot_prediction(lstm_model)"
      ],
      "execution_count": null,
      "outputs": [
        {
          "output_type": "display_data",
          "data": {
            "image/png": "[encoded data removed]",
            "text/plain": [
              "<Figure size 864x576 with 1 Axes>"
            ]
          },
          "metadata": {
            "tags": [],
            "needs_background": "light"
          }
        }
      ]
    },
    {
      "cell_type": "markdown",
      "metadata": {
        "id": "m61EC-E3NLvc"
      },
      "source": [
        "## Residual Wrapper"
      ]
    },
    {
      "cell_type": "code",
      "metadata": {
        "id": "CtyqE3BANNXD"
      },
      "source": [
        "class ResidualWrapper(tf.keras.Model):\n",
        "  def __init__(self, model):\n",
        "    super().__init__()\n",
        "    self.model = model\n",
        "\n",
        "  def call(self, inputs, *args, **kwargs):\n",
        "    delta = self.model(inputs, *args, **kwargs)\n",
        "\n",
        "    # The prediction for each timestep is the input\n",
        "    # from the previous time step plus the delta\n",
        "    # calculated by the model.\n",
        "    return inputs + delta"
      ],
      "execution_count": null,
      "outputs": []
    },
    {
      "cell_type": "code",
      "metadata": {
        "colab": {
          "base_uri": "https://localhost:8080/"
        },
        "id": "jzIp9ppXNQOy",
        "outputId": "02945813-95ad-4341-bb5f-ab509bf0d278"
      },
      "source": [
        "residual_lstm = ResidualWrapper(\n",
        "    tf.keras.Sequential([\n",
        "    tf.keras.layers.LSTM(32, return_sequences=True),\n",
        "    tf.keras.layers.Dense(\n",
        "        num_features,\n",
        "        # The predicted deltas should start small\n",
        "        # So initialize the output layer with zeros\n",
        "        kernel_initializer=tf.initializers.zeros())\n",
        "]))\n",
        "\n",
        "history = compile_and_fit(residual_lstm, wide_window)\n",
        "\n",
        "IPython.display.clear_output()\n",
        "val_performance['Residual LSTM'] = residual_lstm.evaluate(wide_window.val)\n",
        "performance['Residual LSTM'] = residual_lstm.evaluate(wide_window.test, verbose=0)\n",
        "print()"
      ],
      "execution_count": null,
      "outputs": [
        {
          "output_type": "stream",
          "text": [
            "5/5 [==============================] - 0s 9ms/step - loss: 0.0021 - mean_absolute_error: 0.0365\n",
            "\n"
          ],
          "name": "stdout"
        }
      ]
    },
    {
      "cell_type": "code",
      "metadata": {
        "colab": {
          "base_uri": "https://localhost:8080/",
          "height": 496
        },
        "id": "_7fvbQaPNlhz",
        "outputId": "89535977-0059-4e21-c204-cf982db034cf"
      },
      "source": [
        "wide_window.plot_prediction(residual_lstm)"
      ],
      "execution_count": null,
      "outputs": [
        {
          "output_type": "display_data",
          "data": {
            "image/png": "[encoded data removed]",
            "text/plain": [
              "<Figure size 864x576 with 1 Axes>"
            ]
          },
          "metadata": {
            "tags": [],
            "needs_background": "light"
          }
        }
      ]
    },
    {
      "cell_type": "markdown",
      "metadata": {
        "id": "Jf--2gzcOT3K"
      },
      "source": [
        "## RNN"
      ]
    },
    {
      "cell_type": "code",
      "metadata": {
        "colab": {
          "base_uri": "https://localhost:8080/"
        },
        "id": "OxGLnEBVOVB6",
        "outputId": "eefdbe69-cbaa-4118-8e20-f155e88cecf4"
      },
      "source": [
        "rnn_model = tf.keras.models.Sequential([\n",
        "  tf.keras.layers.SimpleRNN(32, return_sequences=True, input_shape=[None, 1]),\n",
        "   tf.keras.layers.Dense(units=1)\n",
        "])\n",
        "\n",
        "history = compile_and_fit(rnn_model, wide_window)\n",
        "\n",
        "IPython.display.clear_output()\n",
        "val_performance['RNN'] = rnn_model.evaluate(wide_window.val)\n",
        "performance['RNN'] = rnn_model.evaluate(wide_window.test, verbose=0)\n",
        "print()"
      ],
      "execution_count": null,
      "outputs": [
        {
          "output_type": "stream",
          "text": [
            "5/5 [==============================] - 0s 6ms/step - loss: 0.0223 - mean_absolute_error: 0.0957\n",
            "\n"
          ],
          "name": "stdout"
        }
      ]
    },
    {
      "cell_type": "code",
      "metadata": {
        "colab": {
          "base_uri": "https://localhost:8080/",
          "height": 496
        },
        "id": "qqRk0arHPbUC",
        "outputId": "b0175c2a-79b8-43ff-c85b-f5ac9f4f837b"
      },
      "source": [
        "wide_window.plot_prediction(rnn_model)"
      ],
      "execution_count": null,
      "outputs": [
        {
          "output_type": "display_data",
          "data": {
            "image/png": "[encoded data removed]",
            "text/plain": [
              "<Figure size 864x576 with 1 Axes>"
            ]
          },
          "metadata": {
            "tags": [],
            "needs_background": "light"
          }
        }
      ]
    },
    {
      "cell_type": "markdown",
      "metadata": {
        "id": "jXizBPCYTGRG"
      },
      "source": [
        "## GRU"
      ]
    },
    {
      "cell_type": "code",
      "metadata": {
        "colab": {
          "base_uri": "https://localhost:8080/"
        },
        "id": "eECdWjv5P2bT",
        "outputId": "b57c9800-a5ff-480a-fcbe-486053499191"
      },
      "source": [
        "gru_model = tf.keras.models.Sequential([\n",
        "  tf.keras.layers.GRU(32, return_sequences=True),\n",
        "  tf.keras.layers.TimeDistributed(tf.keras.layers.Dense(1))\n",
        "])\n",
        "\n",
        "history = compile_and_fit(gru_model, wide_window)\n",
        "\n",
        "IPython.display.clear_output()\n",
        "val_performance['GRU'] = gru_model.evaluate(wide_window.val)\n",
        "performance['GRU'] = gru_model.evaluate(wide_window.test, verbose=0)\n",
        "print()"
      ],
      "execution_count": null,
      "outputs": [
        {
          "output_type": "stream",
          "text": [
            "5/5 [==============================] - 0s 9ms/step - loss: 0.0123 - mean_absolute_error: 0.0720\n",
            "\n"
          ],
          "name": "stdout"
        }
      ]
    },
    {
      "cell_type": "code",
      "metadata": {
        "colab": {
          "base_uri": "https://localhost:8080/",
          "height": 496
        },
        "id": "mlqlUMe8S4R_",
        "outputId": "29e0cad0-2087-4f5c-e621-905a2e187e68"
      },
      "source": [
        "wide_window.plot_prediction(gru_model)"
      ],
      "execution_count": null,
      "outputs": [
        {
          "output_type": "display_data",
          "data": {
            "image/png": "[encoded data removed]",
            "text/plain": [
              "<Figure size 864x576 with 1 Axes>"
            ]
          },
          "metadata": {
            "tags": [],
            "needs_background": "light"
          }
        }
      ]
    },
    {
      "cell_type": "markdown",
      "metadata": {
        "id": "3of3DOyDb8C1"
      },
      "source": [
        "## RSME Evaluation"
      ]
    },
    {
      "cell_type": "code",
      "metadata": {
        "colab": {
          "base_uri": "https://localhost:8080/"
        },
        "id": "47BcJOrfmpTM",
        "outputId": "51156367-e7ae-4883-ac08-4f8afe6d3056"
      },
      "source": [
        "#LSTM\n",
        "rmse = tf.keras.metrics.MeanSquaredError()\n",
        "inputs = desnormalization(next(iter(wide_window.test))[0])\n",
        "labels = desnormalization(next(iter(wide_window.test))[1])\n",
        "\n",
        "mae = tf.keras.metrics.MeanAbsoluteError()\n",
        "\n",
        "pred = lstm_model(next(iter(wide_window.test))[0])\n",
        "pred = desnormalization(pred, train=False)\n",
        "\n",
        "#Calculo RMSE\n",
        "rmse.update_state(pred,labels)\n",
        "mae.update_state(pred,labels)\n",
        "\n",
        "import math\n",
        "math.sqrt(rmse.result().numpy()), math.sqrt(mae.result().numpy())"
      ],
      "execution_count": null,
      "outputs": [
        {
          "output_type": "execute_result",
          "data": {
            "text/plain": [
              "(125.70326775162808, 10.181399525667851)"
            ]
          },
          "metadata": {
            "tags": []
          },
          "execution_count": 118
        }
      ]
    },
    {
      "cell_type": "code",
      "metadata": {
        "colab": {
          "base_uri": "https://localhost:8080/"
        },
        "id": "aKgtHiJOmv5d",
        "outputId": "65f6c3ec-da53-4187-b3a9-66710906c873"
      },
      "source": [
        "#Residual LSTM\n",
        "rmse = tf.keras.metrics.MeanSquaredError()\n",
        "inputs = desnormalization(next(iter(wide_window.test))[0])\n",
        "labels = desnormalization(next(iter(wide_window.test))[1])\n",
        "\n",
        "mae = tf.keras.metrics.MeanAbsoluteError()\n",
        "\n",
        "pred = residual_lstm(next(iter(wide_window.test))[0])\n",
        "pred = desnormalization(pred)\n",
        "\n",
        "#Calculo RMSE\n",
        "rmse.update_state(pred,labels)\n",
        "mae.update_state(pred,labels)\n",
        "\n",
        "import math\n",
        "math.sqrt(rmse.result().numpy()), math.sqrt(mae.result().numpy())"
      ],
      "execution_count": null,
      "outputs": [
        {
          "output_type": "execute_result",
          "data": {
            "text/plain": [
              "(29.54012040224119, 4.572903203690971)"
            ]
          },
          "metadata": {
            "tags": []
          },
          "execution_count": 117
        }
      ]
    },
    {
      "cell_type": "code",
      "metadata": {
        "colab": {
          "base_uri": "https://localhost:8080/"
        },
        "id": "icf1sco0m3iM",
        "outputId": "7c4174ac-a552-4ac2-d48a-e552f4a7aa77"
      },
      "source": [
        "# RNN\n",
        "rmse = tf.keras.metrics.MeanSquaredError()\n",
        "inputs = desnormalization(next(iter(wide_window.test))[0])\n",
        "labels = desnormalization(next(iter(wide_window.test))[1])\n",
        "\n",
        "mae = tf.keras.metrics.MeanAbsoluteError()\n",
        "\n",
        "pred = rnn_model(next(iter(wide_window.test))[0])\n",
        "pred = desnormalization(pred)\n",
        "\n",
        "#Calculo RMSE\n",
        "rmse.update_state(pred,labels)\n",
        "mae.update_state(pred,labels)\n",
        "\n",
        "import math\n",
        "math.sqrt(rmse.result().numpy()), math.sqrt(mae.result().numpy())"
      ],
      "execution_count": null,
      "outputs": [
        {
          "output_type": "execute_result",
          "data": {
            "text/plain": [
              "(104.08532970296534, 9.088367665254728)"
            ]
          },
          "metadata": {
            "tags": []
          },
          "execution_count": 119
        }
      ]
    },
    {
      "cell_type": "code",
      "metadata": {
        "colab": {
          "base_uri": "https://localhost:8080/"
        },
        "id": "_FhYUhW1iIrI",
        "outputId": "39e41279-b05f-4f2d-8993-f79604abff53"
      },
      "source": [
        "# GRU\n",
        "rmse = tf.keras.metrics.MeanSquaredError()\n",
        "inputs = desnormalization(next(iter(wide_window.test))[0])\n",
        "labels = desnormalization(next(iter(wide_window.test))[1])\n",
        "\n",
        "mae = tf.keras.metrics.MeanAbsoluteError()\n",
        "\n",
        "pred = gru_model(next(iter(wide_window.test))[0])\n",
        "pred = desnormalization(pred, train=False)\n",
        "\n",
        "#Calculo RMSE\n",
        "rmse.update_state(pred,labels)\n",
        "mae.update_state(pred,labels)\n",
        "\n",
        "import math\n",
        "math.sqrt(rmse.result().numpy()), math.sqrt(mae.result().numpy())"
      ],
      "execution_count": null,
      "outputs": [
        {
          "output_type": "execute_result",
          "data": {
            "text/plain": [
              "(61.45371495712241, 6.588550705331827)"
            ]
          },
          "metadata": {
            "tags": []
          },
          "execution_count": 120
        }
      ]
    },
    {
      "cell_type": "markdown",
      "metadata": {
        "id": "_gr1Mqlzqfgj"
      },
      "source": [
        "# Classification ----------------------------"
      ]
    },
    {
      "cell_type": "code",
      "metadata": {
        "colab": {
          "base_uri": "https://localhost:8080/",
          "height": 445
        },
        "id": "35AaQSRNXxhF",
        "outputId": "527a0bee-c755-49d8-90c1-3990ec1e8164"
      },
      "source": [
        "df_raw['oscilacao'] = (df_raw['Valor'] - df_raw['Valor'].shift()) / df_raw['Valor'].shift()\n",
        "df_raw['classificacao'] = [1 if x  > 0 else 0 for x in df_raw['oscilacao']]\n",
        "df_raw = df_raw.drop(['oscilacao'], axis=1)\n",
        "df = df_raw\n",
        "df"
      ],
      "execution_count": null,
      "outputs": [
        {
          "output_type": "execute_result",
          "data": {
            "text/html": [
              "<div>\n",
              "<style scoped>\n",
              "    .dataframe tbody tr th:only-of-type {\n",
              "        vertical-align: middle;\n",
              "    }\n",
              "\n",
              "    .dataframe tbody tr th {\n",
              "        vertical-align: top;\n",
              "    }\n",
              "\n",
              "    .dataframe thead th {\n",
              "        text-align: right;\n",
              "    }\n",
              "</style>\n",
              "<table border=\"1\" class=\"dataframe\">\n",
              "  <thead>\n",
              "    <tr style=\"text-align: right;\">\n",
              "      <th></th>\n",
              "      <th>Valor</th>\n",
              "      <th>classificacao</th>\n",
              "    </tr>\n",
              "    <tr>\n",
              "      <th>Data</th>\n",
              "      <th></th>\n",
              "      <th></th>\n",
              "    </tr>\n",
              "  </thead>\n",
              "  <tbody>\n",
              "    <tr>\n",
              "      <th>2021-06-13</th>\n",
              "      <td>1.758711</td>\n",
              "      <td>0</td>\n",
              "    </tr>\n",
              "    <tr>\n",
              "      <th>2021-06-06</th>\n",
              "      <td>1.794895</td>\n",
              "      <td>1</td>\n",
              "    </tr>\n",
              "    <tr>\n",
              "      <th>2021-05-30</th>\n",
              "      <td>1.833575</td>\n",
              "      <td>1</td>\n",
              "    </tr>\n",
              "    <tr>\n",
              "      <th>2021-05-23</th>\n",
              "      <td>1.875062</td>\n",
              "      <td>1</td>\n",
              "    </tr>\n",
              "    <tr>\n",
              "      <th>2021-05-16</th>\n",
              "      <td>1.792712</td>\n",
              "      <td>0</td>\n",
              "    </tr>\n",
              "    <tr>\n",
              "      <th>...</th>\n",
              "      <td>...</td>\n",
              "      <td>...</td>\n",
              "    </tr>\n",
              "    <tr>\n",
              "      <th>2000-07-16</th>\n",
              "      <td>0.222871</td>\n",
              "      <td>1</td>\n",
              "    </tr>\n",
              "    <tr>\n",
              "      <th>2000-07-09</th>\n",
              "      <td>0.298884</td>\n",
              "      <td>1</td>\n",
              "    </tr>\n",
              "    <tr>\n",
              "      <th>2000-07-02</th>\n",
              "      <td>0.458512</td>\n",
              "      <td>1</td>\n",
              "    </tr>\n",
              "    <tr>\n",
              "      <th>2000-06-25</th>\n",
              "      <td>0.983003</td>\n",
              "      <td>1</td>\n",
              "    </tr>\n",
              "    <tr>\n",
              "      <th>2000-06-18</th>\n",
              "      <td>0.420505</td>\n",
              "      <td>0</td>\n",
              "    </tr>\n",
              "  </tbody>\n",
              "</table>\n",
              "<p>1096 rows × 2 columns</p>\n",
              "</div>"
            ],
            "text/plain": [
              "               Valor  classificacao\n",
              "Data                               \n",
              "2021-06-13  1.758711              0\n",
              "2021-06-06  1.794895              1\n",
              "2021-05-30  1.833575              1\n",
              "2021-05-23  1.875062              1\n",
              "2021-05-16  1.792712              0\n",
              "...              ...            ...\n",
              "2000-07-16  0.222871              1\n",
              "2000-07-09  0.298884              1\n",
              "2000-07-02  0.458512              1\n",
              "2000-06-25  0.983003              1\n",
              "2000-06-18  0.420505              0\n",
              "\n",
              "[1096 rows x 2 columns]"
            ]
          },
          "metadata": {
            "tags": []
          },
          "execution_count": 121
        }
      ]
    },
    {
      "cell_type": "code",
      "metadata": {
        "colab": {
          "base_uri": "https://localhost:8080/",
          "height": 110
        },
        "id": "p92Q5wy4TO-X",
        "outputId": "20b3a209-99e1-46b3-d537-9ca70ec7115f"
      },
      "source": [
        "df.describe().transpose()"
      ],
      "execution_count": null,
      "outputs": [
        {
          "output_type": "execute_result",
          "data": {
            "text/html": [
              "<div>\n",
              "<style scoped>\n",
              "    .dataframe tbody tr th:only-of-type {\n",
              "        vertical-align: middle;\n",
              "    }\n",
              "\n",
              "    .dataframe tbody tr th {\n",
              "        vertical-align: top;\n",
              "    }\n",
              "\n",
              "    .dataframe thead th {\n",
              "        text-align: right;\n",
              "    }\n",
              "</style>\n",
              "<table border=\"1\" class=\"dataframe\">\n",
              "  <thead>\n",
              "    <tr style=\"text-align: right;\">\n",
              "      <th></th>\n",
              "      <th>count</th>\n",
              "      <th>mean</th>\n",
              "      <th>std</th>\n",
              "      <th>min</th>\n",
              "      <th>25%</th>\n",
              "      <th>50%</th>\n",
              "      <th>75%</th>\n",
              "      <th>max</th>\n",
              "    </tr>\n",
              "  </thead>\n",
              "  <tbody>\n",
              "    <tr>\n",
              "      <th>Valor</th>\n",
              "      <td>1096.0</td>\n",
              "      <td>1.009077e-15</td>\n",
              "      <td>0.999086</td>\n",
              "      <td>-2.231524</td>\n",
              "      <td>-0.572669</td>\n",
              "      <td>-0.013445</td>\n",
              "      <td>0.557928</td>\n",
              "      <td>3.016084</td>\n",
              "    </tr>\n",
              "    <tr>\n",
              "      <th>classificacao</th>\n",
              "      <td>1096.0</td>\n",
              "      <td>4.744526e-01</td>\n",
              "      <td>0.499575</td>\n",
              "      <td>0.000000</td>\n",
              "      <td>0.000000</td>\n",
              "      <td>0.000000</td>\n",
              "      <td>1.000000</td>\n",
              "      <td>1.000000</td>\n",
              "    </tr>\n",
              "  </tbody>\n",
              "</table>\n",
              "</div>"
            ],
            "text/plain": [
              "                count          mean       std  ...       50%       75%       max\n",
              "Valor          1096.0  1.009077e-15  0.999086  ... -0.013445  0.557928  3.016084\n",
              "classificacao  1096.0  4.744526e-01  0.499575  ...  0.000000  1.000000  1.000000\n",
              "\n",
              "[2 rows x 8 columns]"
            ]
          },
          "metadata": {
            "tags": []
          },
          "execution_count": 122
        }
      ]
    },
    {
      "cell_type": "code",
      "metadata": {
        "id": "uEWLHNBQZzZq"
      },
      "source": [
        "# Divisão 70%, 20% e 10%\n",
        "n = len(df)\n",
        "train_df = df[0:int(n*0.7)]\n",
        "val_df = df[int(n*0.7):int(n*0.909)]\n",
        "test_df = df[int(n*0.909):]\n",
        "\n",
        "num_features = df.shape[1]"
      ],
      "execution_count": null,
      "outputs": []
    },
    {
      "cell_type": "code",
      "metadata": {
        "id": "RY2onXFNZ_VE"
      },
      "source": [
        "#Normalize \n",
        "train_mean = train_df['Valor'].mean()\n",
        "train_std = train_df['Valor'].std()\n",
        "\n",
        "val_mean = val_df['Valor'].mean()\n",
        "val_std = val_df['Valor'].std()\n",
        "\n",
        "test_mean = test_df['Valor'].mean()\n",
        "test_std = test_df['Valor'].std()\n",
        "\n",
        "train_df['Valor'] = (train_df - train_mean) / train_std\n",
        "val_df['Valor'] = (val_df - val_mean) / val_std\n",
        "test_df['Valor'] = (test_df - test_mean) / test_std"
      ],
      "execution_count": null,
      "outputs": []
    },
    {
      "cell_type": "code",
      "metadata": {
        "colab": {
          "base_uri": "https://localhost:8080/"
        },
        "id": "m-0u4wOPaCTk",
        "outputId": "fb77de68-e49c-4e88-c382-36e8d5bca102"
      },
      "source": [
        "print('All shapes are :')\n",
        "print(f'Train: {train_df.shape}')\n",
        "print(f'Val: {val_df.shape}')\n",
        "print(f'Test: {test_df.shape}')"
      ],
      "execution_count": null,
      "outputs": [
        {
          "output_type": "stream",
          "text": [
            "All shapes are :\n",
            "Train: (767, 2)\n",
            "Val: (229, 2)\n",
            "Test: (100, 2)\n"
          ],
          "name": "stdout"
        }
      ]
    },
    {
      "cell_type": "code",
      "metadata": {
        "id": "SJ-qFrgUEVxB"
      },
      "source": [
        "class WindowGeneratorClass():\n",
        "  def __init__(self, input_width, label_width, shift,\n",
        "               train_df=train_df, val_df=val_df, test_df=test_df,\n",
        "               label_columns=None):\n",
        "    # Store the raw data.\n",
        "    self.train_df = train_df\n",
        "    self.val_df = val_df\n",
        "    self.test_df = test_df\n",
        "\n",
        "    # Work out the label column indices.\n",
        "    self.label_columns = label_columns\n",
        "    if label_columns is not None:\n",
        "      self.label_columns_indices = {name: i for i, name in\n",
        "                                    enumerate(label_columns)}\n",
        "    self.column_indices = {name: i for i, name in\n",
        "                           enumerate(train_df.columns)}\n",
        "\n",
        "    # Work out the window parameters.\n",
        "    self.input_width = input_width\n",
        "    self.label_width = label_width\n",
        "    self.shift = shift\n",
        "\n",
        "    self.total_window_size = input_width + shift\n",
        "\n",
        "    self.input_slice = slice(0, input_width)\n",
        "    self.input_indices = np.arange(self.total_window_size)[self.input_slice]\n",
        "\n",
        "    self.label_start = self.total_window_size - self.label_width\n",
        "    self.labels_slice = slice(self.label_start, None)\n",
        "    self.label_indices = np.arange(self.total_window_size)[self.labels_slice]\n",
        "\n",
        "  def __repr__(self):\n",
        "    return '\\n'.join([\n",
        "        f'Total window size: {self.total_window_size}',\n",
        "        f'Input indices: {self.input_indices}',\n",
        "        f'Label indices: {self.label_indices}',\n",
        "        f'Label column name(s): {self.label_columns}'])\n",
        "    \n",
        "  def split_window(self, features):\n",
        "    inputs = features[:, self.input_slice, :]\n",
        "    labels = features[:, self.labels_slice, :]\n",
        "    if self.label_columns is not None:\n",
        "      labels = tf.stack(\n",
        "        [labels[:, :, self.column_indices[name]] for name in self.label_columns],\n",
        "        axis=-1)\n",
        "    # Slicing doesn't preserve static shape information, so set the shapes\n",
        "    # manually. This way the `tf.data.Datasets` are easier to inspect.\n",
        "    inputs.set_shape([None, self.input_width, None])\n",
        "    labels.set_shape([None, self.label_width, None])\n",
        "\n",
        "    return inputs, labels\n",
        "\n",
        "  def plot(self, model=None, plot_col='Valor', max_subplots=3):\n",
        "    inputs, labels = self.example\n",
        "    inputs = desnormalization(inputs)\n",
        "    labels = desnormalization(labels)\n",
        "    plt.figure(figsize=(12, 8))\n",
        "    plot_col_index = self.column_indices[plot_col]\n",
        "    max_n = min(max_subplots, len(inputs))\n",
        "    for n in range(max_n):\n",
        "      plt.subplot(max_n, 1, n+1)\n",
        "      plt.ylabel(f'{plot_col} [normed]')\n",
        "      plt.plot(self.input_indices, inputs[n, :, plot_col_index],\n",
        "              label='Inputs', marker='.', zorder=-10)\n",
        "\n",
        "      if self.label_columns:\n",
        "        label_col_index = self.label_columns_indices.get(plot_col, None)\n",
        "      else:\n",
        "        label_col_index = plot_col_index\n",
        "\n",
        "      if label_col_index is None:\n",
        "        continue\n",
        "\n",
        "      plt.scatter(self.label_indices, labels[n, :, label_col_index],\n",
        "                  edgecolors='k', label='Labels', c='#2ca02c', s=64)\n",
        "      if model is not None:\n",
        "        predictions = model(inputs)\n",
        "        plt.scatter(self.label_indices, predictions[n, :, label_col_index],\n",
        "                    marker='X', edgecolors='k', label='Predictions',\n",
        "                    c='#ff7f0e', s=64)\n",
        "\n",
        "      if n == 0:\n",
        "        plt.legend()\n",
        "\n",
        "    plt.xlabel('Time [week]')\n",
        "\n",
        "  def plot_prediction(self, model=None, plot_col='Valor', max_subplots=3):\n",
        "    inputs, labels = next(iter(self.test))\n",
        "    inputs_des = desnormalization(inputs, train=False)\n",
        "    labels_des = desnormalization(labels, train=False)\n",
        "    plt.figure(figsize=(12, 8))\n",
        "    plot_col_index = self.column_indices[plot_col]\n",
        "    max_n = min(max_subplots, len(inputs))\n",
        "    for n in range(max_n):\n",
        "      plt.subplot(max_n, 1, n+1)\n",
        "      plt.ylabel(f'{plot_col} [normed]')\n",
        "      plt.plot(self.input_indices, inputs_des[n, :, plot_col_index],\n",
        "              label='Inputs', marker='.', zorder=-10)\n",
        "\n",
        "      if self.label_columns:\n",
        "        label_col_index = self.label_columns_indices.get(plot_col, None)\n",
        "      else:\n",
        "        label_col_index = plot_col_index\n",
        "\n",
        "      if label_col_index is None:\n",
        "        continue\n",
        "\n",
        "      plt.scatter(self.label_indices, labels_des[n, :, label_col_index],\n",
        "                  edgecolors='k', label='Labels', c='#2ca02c', s=64)\n",
        "      if model is not None:\n",
        "        predictions = model(inputs)\n",
        "        predictions = desnormalization(predictions, train=False)\n",
        "        plt.scatter(self.label_indices, predictions[n, :, label_col_index],\n",
        "                    marker='X', edgecolors='k', label='Predictions',\n",
        "                    c='#ff7f0e', s=64)\n",
        "\n",
        "      if n == 0:\n",
        "        plt.legend()\n",
        "\n",
        "    plt.xlabel('Time [week]')\n",
        "\n",
        "  def make_dataset(self, data):\n",
        "    data = np.array(data, dtype=np.float32)\n",
        "    ds = tf.keras.preprocessing.timeseries_dataset_from_array(\n",
        "        data=data,\n",
        "        targets=None,\n",
        "        sequence_length=self.total_window_size,\n",
        "        sequence_stride=1,\n",
        "        shuffle=True,\n",
        "        batch_size=1,)\n",
        "\n",
        "    ds = ds.map(self.split_window)\n",
        "\n",
        "    return ds\n",
        "\n",
        "  @property\n",
        "  def train(self):\n",
        "    return self.make_dataset(self.train_df)\n",
        "\n",
        "  @property\n",
        "  def val(self):\n",
        "    return self.make_dataset(self.val_df)\n",
        "\n",
        "  @property\n",
        "  def test(self):\n",
        "    return self.make_dataset(self.test_df)\n",
        "\n",
        "  @property\n",
        "  def example(self):\n",
        "    \"\"\"Get and cache an example batch of `inputs, labels` for plotting.\"\"\"\n",
        "    result = getattr(self, '_example', None)\n",
        "    if result is None:\n",
        "      # No example batch was found, so get one from the `.train` dataset\n",
        "      result = next(iter(self.train))\n",
        "      # And cache it for next time\n",
        "      self._example = result\n",
        "    return result"
      ],
      "execution_count": null,
      "outputs": []
    },
    {
      "cell_type": "code",
      "metadata": {
        "id": "C3Dzh-6MaHtL"
      },
      "source": [
        "class_window = WindowGeneratorClass(train_df=train_df, val_df=val_df, test_df=test_df,\n",
        "    input_width=99, label_width=99, shift=1,\n",
        "    label_columns=['classificacao'])"
      ],
      "execution_count": null,
      "outputs": []
    },
    {
      "cell_type": "code",
      "metadata": {
        "id": "cjwB7AmzryrC"
      },
      "source": [
        "MAX_EPOCHS = 10\n",
        "\n",
        "METRICS = [\n",
        "      tf.keras.metrics.TruePositives(name='tp'),\n",
        "      tf.keras.metrics.FalsePositives(name='fp'),\n",
        "      tf.keras.metrics.TrueNegatives(name='tn'),\n",
        "      tf.keras.metrics.FalseNegatives(name='fn'), \n",
        "      tf.keras.metrics.BinaryAccuracy(name='accuracy'),\n",
        "      tf.keras.metrics.Precision(name='precision'),\n",
        "      tf.keras.metrics.Recall(name='recall'),\n",
        "      tf.keras.metrics.AUC(name='auc'),\n",
        "      tf.keras.metrics.AUC(name='prc', curve='PR'), # precision-recall curve\n",
        "]\n",
        "\n",
        "def compile_and_fit(model, window, patience=2):\n",
        "  early_stopping = tf.keras.callbacks.EarlyStopping(monitor='val_loss',\n",
        "                                                    patience=patience,\n",
        "                                                    mode='min')\n",
        "\n",
        "  model.compile(loss=tf.keras.losses.MeanSquaredError(),\n",
        "                optimizer=tf.optimizers.Adam(),\n",
        "                metrics=[tf.keras.metrics.MeanAbsoluteError()])\n",
        "\n",
        "  history = model.fit(window.train, epochs=MAX_EPOCHS,\n",
        "                      validation_data=window.val,\n",
        "                      callbacks=[early_stopping])\n",
        "  return history"
      ],
      "execution_count": null,
      "outputs": []
    },
    {
      "cell_type": "markdown",
      "metadata": {
        "id": "dM6u4yIMtI9j"
      },
      "source": [
        "## LSTM Classification"
      ]
    },
    {
      "cell_type": "code",
      "metadata": {
        "colab": {
          "base_uri": "https://localhost:8080/"
        },
        "id": "C6suaZEfaqUq",
        "outputId": "b1d125d2-5a28-402e-ab13-85726f2bef2e"
      },
      "source": [
        "# Model\n",
        "lstm_model_class = tf.keras.models.Sequential([\n",
        "    # Shape [batch, time, features] => [batch, time, lstm_units]\n",
        "    tf.keras.layers.LSTM(32, return_sequences=True),\n",
        "    tf.keras.layers.Dense(32, activation='relu'),\n",
        "    tf.keras.layers.Dropout(0.5),\n",
        "    # Shape => [batch, time, features]\n",
        "    tf.keras.layers.Dense(units = 1, activation='sigmoid')\n",
        "])\n",
        "\n",
        "\n",
        "print('Input shape:', class_window.example[0].shape)\n",
        "print('Output shape:', lstm_model_class(class_window.example[0]).shape)"
      ],
      "execution_count": null,
      "outputs": [
        {
          "output_type": "stream",
          "text": [
            "Input shape: (1, 99, 2)\n",
            "Output shape: (1, 99, 1)\n"
          ],
          "name": "stdout"
        }
      ]
    },
    {
      "cell_type": "code",
      "metadata": {
        "colab": {
          "base_uri": "https://localhost:8080/"
        },
        "id": "iUJMgEQWbF0K",
        "outputId": "8e05b9e3-52b8-468b-903b-4aaca80c9117"
      },
      "source": [
        "val_performance = {}\n",
        "performance = {}\n",
        "\n",
        "history = compile_and_fit(lstm_model_class, class_window)\n",
        "\n",
        "IPython.display.clear_output()\n",
        "val_performance['LSTM Class'] = lstm_model_class.evaluate(class_window.val)\n",
        "performance['LSTM Class'] = lstm_model_class.evaluate(class_window.test, verbose=0)\n",
        "\n",
        "labels = next(iter(class_window.test))[1][0]\n",
        "pred = tf.convert_to_tensor(np.array([1 if x > 4.744526e-01 else 0 for x in lstm_model_class(next(iter(class_window.test))[0])[0]]).reshape(-1,1), dtype = tf.float32)\n",
        "\n",
        "acc = tf.keras.metrics.Accuracy()\n",
        "acc.update_state(pred, labels)\n",
        "acc.result().numpy()"
      ],
      "execution_count": null,
      "outputs": [
        {
          "output_type": "stream",
          "text": [
            "130/130 [==============================] - 1s 5ms/step - loss: 0.3038 - mean_absolute_error: 0.4757\n"
          ],
          "name": "stdout"
        },
        {
          "output_type": "execute_result",
          "data": {
            "text/plain": [
              "0.4949495"
            ]
          },
          "metadata": {
            "tags": []
          },
          "execution_count": 137
        }
      ]
    },
    {
      "cell_type": "markdown",
      "metadata": {
        "id": "jb3E_1YMtLLZ"
      },
      "source": [
        "## Residual Classification"
      ]
    },
    {
      "cell_type": "code",
      "metadata": {
        "colab": {
          "base_uri": "https://localhost:8080/"
        },
        "id": "KX9ZYeATqsGk",
        "outputId": "5a529bc5-6d4b-4438-c45d-6eefc20a6073"
      },
      "source": [
        "# Model residual Class\n",
        "residual_lstm_class = ResidualWrapper(\n",
        "    tf.keras.Sequential([\n",
        "    tf.keras.layers.LSTM(32, return_sequences=True),\n",
        "    tf.keras.layers.Dense(\n",
        "        num_features,\n",
        "        # The predicted deltas should start small\n",
        "        # So initialize the output layer with zeros\n",
        "        kernel_initializer=tf.initializers.zeros()),\n",
        "    tf.keras.layers.Dense(1, activation='sigmoid')\n",
        "]))\n",
        "\n",
        "history = compile_and_fit(residual_lstm_class, class_window)\n",
        "\n",
        "IPython.display.clear_output()\n",
        "val_performance['Residual LSTM Class'] = residual_lstm_class.evaluate(class_window.val)\n",
        "performance['Residual LSTM Class'] = residual_lstm_class.evaluate(class_window.test, verbose=0)\n",
        "print()"
      ],
      "execution_count": null,
      "outputs": [
        {
          "output_type": "stream",
          "text": [
            "130/130 [==============================] - 1s 5ms/step - loss: 0.6699 - mean_absolute_error: 0.6599\n",
            "\n"
          ],
          "name": "stdout"
        }
      ]
    },
    {
      "cell_type": "code",
      "metadata": {
        "colab": {
          "base_uri": "https://localhost:8080/"
        },
        "id": "XwlKQrLHs2Gj",
        "outputId": "6aee7bc9-a1f9-4497-e780-759d98f1853d"
      },
      "source": [
        "labels = next(iter(class_window.test))[1][0]\n",
        "pred = tf.convert_to_tensor(np.array([1 if x[1] > 0.045 else 0 for x in residual_lstm_class(next(iter(class_window.test))[0])[0]]), dtype = tf.float32)\n",
        "\n",
        "acc = tf.keras.metrics.Accuracy()\n",
        "acc.update_state(pred, labels)\n",
        "acc.result().numpy()"
      ],
      "execution_count": null,
      "outputs": [
        {
          "output_type": "execute_result",
          "data": {
            "text/plain": [
              "0.5151515"
            ]
          },
          "metadata": {
            "tags": []
          },
          "execution_count": 271
        }
      ]
    },
    {
      "cell_type": "markdown",
      "metadata": {
        "id": "2IByp-ekyFLG"
      },
      "source": [
        "## RNN Classification"
      ]
    },
    {
      "cell_type": "code",
      "metadata": {
        "colab": {
          "base_uri": "https://localhost:8080/"
        },
        "id": "pVBJQw5uyEcQ",
        "outputId": "3fcac26c-a638-4222-fafb-8ed10b8569d4"
      },
      "source": [
        "rnn_model_class = tf.keras.models.Sequential([\n",
        "  tf.keras.layers.SimpleRNN(32, return_sequences=True),\n",
        "  tf.keras.layers.Dense(32, activation='relu'),\n",
        "  tf.keras.layers.Dropout(0.5),\n",
        "  tf.keras.layers.Dense(units=1, activation='sigmoid')\n",
        "])\n",
        "\n",
        "print('Input shape:', class_window.example[0].shape)\n",
        "print('Output shape:', rnn_model_class(class_window.example[0]).shape)"
      ],
      "execution_count": null,
      "outputs": [
        {
          "output_type": "stream",
          "text": [
            "Input shape: (1, 99, 2)\n",
            "Output shape: (1, 99, 1)\n"
          ],
          "name": "stdout"
        }
      ]
    },
    {
      "cell_type": "code",
      "metadata": {
        "colab": {
          "base_uri": "https://localhost:8080/"
        },
        "id": "39Lvf5fDy_Ww",
        "outputId": "5c89b36e-67fd-43f1-ec80-07ddb59a62c1"
      },
      "source": [
        "history = compile_and_fit(rnn_model_class, class_window)\n",
        "\n",
        "IPython.display.clear_output()\n",
        "val_performance['RNN Class'] = rnn_model_class.evaluate(class_window.val)\n",
        "performance['RNN Class'] = rnn_model_class.evaluate(class_window.test, verbose=0)\n",
        "print()"
      ],
      "execution_count": null,
      "outputs": [
        {
          "output_type": "stream",
          "text": [
            "130/130 [==============================] - 1s 4ms/step - loss: 0.3743 - mean_absolute_error: 0.5041\n",
            "\n"
          ],
          "name": "stdout"
        }
      ]
    },
    {
      "cell_type": "code",
      "metadata": {
        "colab": {
          "base_uri": "https://localhost:8080/"
        },
        "id": "gjjhNCyrulNo",
        "outputId": "5c27ccb7-53e9-4600-fb2f-adf5688af8ce"
      },
      "source": [
        "labels = next(iter(class_window.test))[1][0]\n",
        "pred = tf.convert_to_tensor(np.array([1 if x > 4.744526e-01 else 0 for x in rnn_model_class(next(iter(class_window.test))[0])[0]]).reshape(-1,1), dtype = tf.float32)\n",
        "\n",
        "acc = tf.keras.metrics.Accuracy()\n",
        "acc.update_state(pred, labels)\n",
        "acc.result().numpy()"
      ],
      "execution_count": null,
      "outputs": [
        {
          "output_type": "execute_result",
          "data": {
            "text/plain": [
              "0.5151515"
            ]
          },
          "metadata": {
            "tags": []
          },
          "execution_count": 274
        }
      ]
    },
    {
      "cell_type": "markdown",
      "metadata": {
        "id": "K4Ha-3vBDsdZ"
      },
      "source": [
        "## GRU"
      ]
    },
    {
      "cell_type": "code",
      "metadata": {
        "colab": {
          "base_uri": "https://localhost:8080/"
        },
        "id": "d91vy-P1DtwE",
        "outputId": "68f53cbd-f72b-40cd-9fc8-edb176d84092"
      },
      "source": [
        "gru_model_class = tf.keras.models.Sequential([\n",
        "  tf.keras.layers.GRU(32, return_sequences=True),\n",
        "  tf.keras.layers.TimeDistributed(tf.keras.layers.Dense(1)),\n",
        "  tf.keras.layers.Dense(1, activation='sigmoid')\n",
        "])\n",
        "\n",
        "history = compile_and_fit(gru_model_class, class_window)\n",
        "\n",
        "IPython.display.clear_output()\n",
        "val_performance['GRU'] = gru_model_class.evaluate(class_window.val)\n",
        "performance['GRU'] = gru_model_class.evaluate(class_window.test, verbose=0)\n",
        "print()"
      ],
      "execution_count": null,
      "outputs": [
        {
          "output_type": "stream",
          "text": [
            "130/130 [==============================] - 1s 5ms/step - loss: 0.2531 - mean_absolute_error: 0.4906\n",
            "\n"
          ],
          "name": "stdout"
        }
      ]
    },
    {
      "cell_type": "code",
      "metadata": {
        "colab": {
          "base_uri": "https://localhost:8080/"
        },
        "id": "CEZSlkIvD-fJ",
        "outputId": "f839b0b6-01ff-42cc-e74a-6c88d6c6b931"
      },
      "source": [
        "labels = next(iter(class_window.test))[1][0]\n",
        "pred = tf.convert_to_tensor(np.array([1 if x > 4.744526e-01 else 0 for x in gru_model_class(next(iter(class_window.test))[0])[0]]).reshape(-1,1), dtype = tf.float32)\n",
        "\n",
        "acc = tf.keras.metrics.Accuracy()\n",
        "acc.update_state(pred, labels)\n",
        "acc.result().numpy()"
      ],
      "execution_count": null,
      "outputs": [
        {
          "output_type": "execute_result",
          "data": {
            "text/plain": [
              "0.4949495"
            ]
          },
          "metadata": {
            "tags": []
          },
          "execution_count": 280
        }
      ]
    }
  ]
}