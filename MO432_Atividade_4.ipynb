{
  "nbformat": 4,
  "nbformat_minor": 0,
  "metadata": {
    "colab": {
      "name": "MO432 Atividade_4.ipynb",
      "provenance": [],
      "collapsed_sections": [],
      "include_colab_link": true
    },
    "kernelspec": {
      "name": "python3",
      "display_name": "Python 3"
    },
    "language_info": {
      "name": "python"
    }
  },
  "cells": [
    {
      "cell_type": "markdown",
      "metadata": {
        "id": "view-in-github",
        "colab_type": "text"
      },
      "source": [
        "<a href=\"https://colab.research.google.com/github/brunocosouza/supervised_learning/blob/main/MO432_Atividade_4.ipynb\" target=\"_parent\"><img src=\"https://colab.research.google.com/assets/colab-badge.svg\" alt=\"Open In Colab\"/></a>"
      ]
    },
    {
      "cell_type": "markdown",
      "metadata": {
        "id": "cd-MHF6GAhZ6"
      },
      "source": [
        "# MO432 - Atividade 4\n",
        "\n",
        "RA234837 - Bruno César de Oliveira Souza\n",
        "\n",
        "RA065068 - Walker Humberto Batista"
      ]
    },
    {
      "cell_type": "code",
      "metadata": {
        "id": "5sAsJQzRAenj"
      },
      "source": [
        "import pandas as pd\n",
        "import numpy as np\n",
        "\n",
        "from sklearn.preprocessing import StandardScaler\n",
        "\n",
        "from sklearn.model_selection import RandomizedSearchCV\n",
        "from sklearn.model_selection import StratifiedKFold\n",
        "from sklearn.model_selection import train_test_split\n",
        "\n",
        "from sklearn.metrics import roc_auc_score\n",
        "\n",
        "from sklearn.linear_model import LogisticRegression\n",
        "from sklearn.discriminant_analysis import QuadraticDiscriminantAnalysis\n",
        "from sklearn.discriminant_analysis import LinearDiscriminantAnalysis\n",
        "from sklearn.svm import SVC\n",
        "from sklearn.naive_bayes import GaussianNB\n",
        "from sklearn.neighbors import KNeighborsClassifier\n",
        "from sklearn.neural_network import MLPClassifier\n",
        "from sklearn.tree import DecisionTreeClassifier\n",
        "from sklearn.ensemble import RandomForestClassifier\n",
        "from sklearn.ensemble import GradientBoostingClassifier\n",
        "\n",
        "import matplotlib\n",
        "import matplotlib.pyplot as plt\n",
        "\n",
        "import warnings\n",
        "warnings.filterwarnings('ignore')"
      ],
      "execution_count": null,
      "outputs": []
    },
    {
      "cell_type": "markdown",
      "metadata": {
        "id": "Idt7a59XBYIK"
      },
      "source": [
        "Attribute Information:\n",
        "\n",
        "There are 6 numerical and 8 categorical attributes. The labels have been changed for the convenience of the statistical algorithms. For example, attribute 4 originally had 3 labels p,g,gg and these have been changed to labels 1,2,3.\n",
        "\n",
        "1. A1: 0,1 CATEGORICAL (formerly: a,b)\n",
        "2. A2: continuous.\n",
        "3. A3: continuous.\n",
        "4. A4: 1,2,3 CATEGORICAL (formerly: p,g,gg)\n",
        "5. A5: 1, 2,3,4,5, 6,7,8,9,10,11,12,13,14 CATEGORICAL (formerly: ff,d,i,k,j,aa m,c,w, e, q, r,cc, x)\n",
        "6. A6: 1, 2,3, 4,5,6,7,8,9 CATEGORICAL (formerly: ff,dd,j,bb,v,n,o,h,z)\n",
        "7. A7: continuous.\n",
        "8. A8: 1, 0 CATEGORICAL (formerly: t, f)\n",
        "9. A9: 1, 0 CATEGORICAL (formerly: t, f)\n",
        "10. A10: continuous.\n",
        "11. A11: 1, 0 CATEGORICAL (formerly t, f)\n",
        "12. A12: 1, 2, 3 CATEGORICAL (formerly: s, g, p)\n",
        "13. A13: continuous.\n",
        "14. A14: continuous.\n",
        "15. A15: 1,2 class attribute (formerly: +,-)"
      ]
    },
    {
      "cell_type": "code",
      "metadata": {
        "id": "xQvlPVZpAzlE"
      },
      "source": [
        "# Reading data into pandas dataframe\n",
        "df_raw = pd.read_csv('https://www.ic.unicamp.br/~wainer/cursos/1s2021/432/dados4.csv')"
      ],
      "execution_count": null,
      "outputs": []
    },
    {
      "cell_type": "code",
      "metadata": {
        "id": "zXOc6KFHA5nE"
      },
      "source": [
        "df_X = df_raw[['V1','V2','V3','V4','V5','V6','V7','V8','V9','V10','V11','V12','V13','V14']]\n",
        "df_Y = df_raw[['V15']]"
      ],
      "execution_count": null,
      "outputs": []
    },
    {
      "cell_type": "code",
      "metadata": {
        "colab": {
          "base_uri": "https://localhost:8080/",
          "height": 206
        },
        "id": "PiblKJd2CGz0",
        "outputId": "ff1f61a6-9bb2-4524-eb2b-5dba60796a7c"
      },
      "source": [
        "df_X = pd.get_dummies(df_X)\n",
        "df_X.head()"
      ],
      "execution_count": null,
      "outputs": [
        {
          "output_type": "execute_result",
          "data": {
            "text/html": [
              "<div>\n",
              "<style scoped>\n",
              "    .dataframe tbody tr th:only-of-type {\n",
              "        vertical-align: middle;\n",
              "    }\n",
              "\n",
              "    .dataframe tbody tr th {\n",
              "        vertical-align: top;\n",
              "    }\n",
              "\n",
              "    .dataframe thead th {\n",
              "        text-align: right;\n",
              "    }\n",
              "</style>\n",
              "<table border=\"1\" class=\"dataframe\">\n",
              "  <thead>\n",
              "    <tr style=\"text-align: right;\">\n",
              "      <th></th>\n",
              "      <th>V1</th>\n",
              "      <th>V2</th>\n",
              "      <th>V3</th>\n",
              "      <th>V4</th>\n",
              "      <th>V7</th>\n",
              "      <th>V8</th>\n",
              "      <th>V9</th>\n",
              "      <th>V10</th>\n",
              "      <th>V11</th>\n",
              "      <th>V13</th>\n",
              "      <th>V14</th>\n",
              "      <th>V5_aa</th>\n",
              "      <th>V5_c</th>\n",
              "      <th>V5_cc</th>\n",
              "      <th>V5_d</th>\n",
              "      <th>V5_e</th>\n",
              "      <th>V5_ff</th>\n",
              "      <th>V5_i</th>\n",
              "      <th>V5_j</th>\n",
              "      <th>V5_k</th>\n",
              "      <th>V5_m</th>\n",
              "      <th>V5_q</th>\n",
              "      <th>V5_r</th>\n",
              "      <th>V5_w</th>\n",
              "      <th>V5_x</th>\n",
              "      <th>V6_bb</th>\n",
              "      <th>V6_dd</th>\n",
              "      <th>V6_ff</th>\n",
              "      <th>V6_h</th>\n",
              "      <th>V6_j</th>\n",
              "      <th>V6_o</th>\n",
              "      <th>V6_v</th>\n",
              "      <th>V6_z</th>\n",
              "      <th>V12_g</th>\n",
              "      <th>V12_p</th>\n",
              "      <th>V12_s</th>\n",
              "    </tr>\n",
              "  </thead>\n",
              "  <tbody>\n",
              "    <tr>\n",
              "      <th>0</th>\n",
              "      <td>1</td>\n",
              "      <td>22.08</td>\n",
              "      <td>11.46</td>\n",
              "      <td>2</td>\n",
              "      <td>1.585</td>\n",
              "      <td>0</td>\n",
              "      <td>0</td>\n",
              "      <td>0</td>\n",
              "      <td>1</td>\n",
              "      <td>100</td>\n",
              "      <td>1213</td>\n",
              "      <td>0</td>\n",
              "      <td>0</td>\n",
              "      <td>0</td>\n",
              "      <td>0</td>\n",
              "      <td>0</td>\n",
              "      <td>0</td>\n",
              "      <td>0</td>\n",
              "      <td>0</td>\n",
              "      <td>1</td>\n",
              "      <td>0</td>\n",
              "      <td>0</td>\n",
              "      <td>0</td>\n",
              "      <td>0</td>\n",
              "      <td>0</td>\n",
              "      <td>1</td>\n",
              "      <td>0</td>\n",
              "      <td>0</td>\n",
              "      <td>0</td>\n",
              "      <td>0</td>\n",
              "      <td>0</td>\n",
              "      <td>0</td>\n",
              "      <td>0</td>\n",
              "      <td>1</td>\n",
              "      <td>0</td>\n",
              "      <td>0</td>\n",
              "    </tr>\n",
              "    <tr>\n",
              "      <th>1</th>\n",
              "      <td>0</td>\n",
              "      <td>22.67</td>\n",
              "      <td>7.00</td>\n",
              "      <td>2</td>\n",
              "      <td>0.165</td>\n",
              "      <td>0</td>\n",
              "      <td>0</td>\n",
              "      <td>0</td>\n",
              "      <td>0</td>\n",
              "      <td>160</td>\n",
              "      <td>1</td>\n",
              "      <td>0</td>\n",
              "      <td>1</td>\n",
              "      <td>0</td>\n",
              "      <td>0</td>\n",
              "      <td>0</td>\n",
              "      <td>0</td>\n",
              "      <td>0</td>\n",
              "      <td>0</td>\n",
              "      <td>0</td>\n",
              "      <td>0</td>\n",
              "      <td>0</td>\n",
              "      <td>0</td>\n",
              "      <td>0</td>\n",
              "      <td>0</td>\n",
              "      <td>1</td>\n",
              "      <td>0</td>\n",
              "      <td>0</td>\n",
              "      <td>0</td>\n",
              "      <td>0</td>\n",
              "      <td>0</td>\n",
              "      <td>0</td>\n",
              "      <td>0</td>\n",
              "      <td>1</td>\n",
              "      <td>0</td>\n",
              "      <td>0</td>\n",
              "    </tr>\n",
              "    <tr>\n",
              "      <th>2</th>\n",
              "      <td>0</td>\n",
              "      <td>29.58</td>\n",
              "      <td>1.75</td>\n",
              "      <td>1</td>\n",
              "      <td>1.250</td>\n",
              "      <td>0</td>\n",
              "      <td>0</td>\n",
              "      <td>0</td>\n",
              "      <td>1</td>\n",
              "      <td>280</td>\n",
              "      <td>1</td>\n",
              "      <td>0</td>\n",
              "      <td>0</td>\n",
              "      <td>0</td>\n",
              "      <td>0</td>\n",
              "      <td>0</td>\n",
              "      <td>0</td>\n",
              "      <td>0</td>\n",
              "      <td>0</td>\n",
              "      <td>1</td>\n",
              "      <td>0</td>\n",
              "      <td>0</td>\n",
              "      <td>0</td>\n",
              "      <td>0</td>\n",
              "      <td>0</td>\n",
              "      <td>1</td>\n",
              "      <td>0</td>\n",
              "      <td>0</td>\n",
              "      <td>0</td>\n",
              "      <td>0</td>\n",
              "      <td>0</td>\n",
              "      <td>0</td>\n",
              "      <td>0</td>\n",
              "      <td>1</td>\n",
              "      <td>0</td>\n",
              "      <td>0</td>\n",
              "    </tr>\n",
              "    <tr>\n",
              "      <th>3</th>\n",
              "      <td>0</td>\n",
              "      <td>21.67</td>\n",
              "      <td>11.50</td>\n",
              "      <td>1</td>\n",
              "      <td>0.000</td>\n",
              "      <td>1</td>\n",
              "      <td>1</td>\n",
              "      <td>11</td>\n",
              "      <td>1</td>\n",
              "      <td>0</td>\n",
              "      <td>1</td>\n",
              "      <td>0</td>\n",
              "      <td>0</td>\n",
              "      <td>0</td>\n",
              "      <td>0</td>\n",
              "      <td>0</td>\n",
              "      <td>0</td>\n",
              "      <td>0</td>\n",
              "      <td>1</td>\n",
              "      <td>0</td>\n",
              "      <td>0</td>\n",
              "      <td>0</td>\n",
              "      <td>0</td>\n",
              "      <td>0</td>\n",
              "      <td>0</td>\n",
              "      <td>0</td>\n",
              "      <td>0</td>\n",
              "      <td>0</td>\n",
              "      <td>0</td>\n",
              "      <td>1</td>\n",
              "      <td>0</td>\n",
              "      <td>0</td>\n",
              "      <td>0</td>\n",
              "      <td>1</td>\n",
              "      <td>0</td>\n",
              "      <td>0</td>\n",
              "    </tr>\n",
              "    <tr>\n",
              "      <th>4</th>\n",
              "      <td>1</td>\n",
              "      <td>20.17</td>\n",
              "      <td>8.17</td>\n",
              "      <td>2</td>\n",
              "      <td>1.960</td>\n",
              "      <td>1</td>\n",
              "      <td>1</td>\n",
              "      <td>14</td>\n",
              "      <td>0</td>\n",
              "      <td>60</td>\n",
              "      <td>159</td>\n",
              "      <td>1</td>\n",
              "      <td>0</td>\n",
              "      <td>0</td>\n",
              "      <td>0</td>\n",
              "      <td>0</td>\n",
              "      <td>0</td>\n",
              "      <td>0</td>\n",
              "      <td>0</td>\n",
              "      <td>0</td>\n",
              "      <td>0</td>\n",
              "      <td>0</td>\n",
              "      <td>0</td>\n",
              "      <td>0</td>\n",
              "      <td>0</td>\n",
              "      <td>1</td>\n",
              "      <td>0</td>\n",
              "      <td>0</td>\n",
              "      <td>0</td>\n",
              "      <td>0</td>\n",
              "      <td>0</td>\n",
              "      <td>0</td>\n",
              "      <td>0</td>\n",
              "      <td>1</td>\n",
              "      <td>0</td>\n",
              "      <td>0</td>\n",
              "    </tr>\n",
              "  </tbody>\n",
              "</table>\n",
              "</div>"
            ],
            "text/plain": [
              "   V1     V2     V3  V4     V7  V8  ...  V6_o  V6_v  V6_z  V12_g  V12_p  V12_s\n",
              "0   1  22.08  11.46   2  1.585   0  ...     0     0     0      1      0      0\n",
              "1   0  22.67   7.00   2  0.165   0  ...     0     0     0      1      0      0\n",
              "2   0  29.58   1.75   1  1.250   0  ...     0     0     0      1      0      0\n",
              "3   0  21.67  11.50   1  0.000   1  ...     0     0     0      1      0      0\n",
              "4   1  20.17   8.17   2  1.960   1  ...     0     0     0      1      0      0\n",
              "\n",
              "[5 rows x 36 columns]"
            ]
          },
          "metadata": {
            "tags": []
          },
          "execution_count": 4
        }
      ]
    },
    {
      "cell_type": "markdown",
      "metadata": {
        "id": "cXuYE1R2DxJ5"
      },
      "source": [
        "## Centralizando e Normalizando atributos\n",
        "\n",
        "Transformanmos nossos dados em matrizes do numpy para utilizar as funções do sklearn para centralizarmos as amostras e normalizarmos em relação ao desvio padrão."
      ]
    },
    {
      "cell_type": "code",
      "metadata": {
        "colab": {
          "base_uri": "https://localhost:8080/"
        },
        "id": "hzeyZhgeDggq",
        "outputId": "093564c4-f75a-4bbe-c8bc-45daf29e88c3"
      },
      "source": [
        "# Numpy transformation\n",
        "x = df_X.to_numpy()\n",
        "y = df_Y.to_numpy()\n",
        "x.shape, y.shape"
      ],
      "execution_count": null,
      "outputs": [
        {
          "output_type": "execute_result",
          "data": {
            "text/plain": [
              "((690, 36), (690, 1))"
            ]
          },
          "metadata": {
            "tags": []
          },
          "execution_count": 5
        }
      ]
    },
    {
      "cell_type": "code",
      "metadata": {
        "id": "gfIBzYunD18P"
      },
      "source": [
        "# Centering and scaling convertion\n",
        "scaler = StandardScaler()\n",
        "x_hat = scaler.fit_transform(x)\n",
        "\n",
        "y_hat = y"
      ],
      "execution_count": null,
      "outputs": []
    },
    {
      "cell_type": "markdown",
      "metadata": {
        "id": "LMZgxTRdyHcI"
      },
      "source": [
        "# Funções auxiliares\n",
        "\n",
        "Usaremos Nested Cross Validation para encontrar o melhor modelo com os melhores hiperparametros. A ideia é separar a seleção de hiperparametros da seleção de algoritmos de classificação. Assim queremos saber qual é o melhor algoritmo à ser usado num conjunto de dado sem escolher o melhor conjunto de hiperparametros para esse algoritmo ao mesmo tempo.\n",
        "\n",
        "Para esse método, criamos uma função principal que executa o experimento e duas função correspondentes ao Nested Cross Validation : outerloop e innerloop."
      ]
    },
    {
      "cell_type": "markdown",
      "metadata": {
        "id": "WjlXIA2e4KjU"
      },
      "source": [
        "## Métrica\n",
        "\n",
        "Avaliamos os algoritmos com os melhores hiperparametros usando a métrica ROC AUC.\n",
        "\n",
        "A Curva Característica de Operação do Receptor, ou, do inglês, Receiver Operating Characteristic Curve, ou, simplesmente, curva ROC, é uma representação gráfica que ilustra o desempenho de um sistema classificador binário à medida que o seu limiar de discriminação varia."
      ]
    },
    {
      "cell_type": "code",
      "metadata": {
        "id": "DJgI5Z5zHbR5"
      },
      "source": [
        "def experiment(x, y, estimators):\n",
        "  results = []\n",
        "\n",
        "  for (estimator, search_params, estimator_name) in estimators:\n",
        "    result = outerloop(x, y, estimator, search_params, estimator_name)\n",
        "    results.append(result)\n",
        "\n",
        "  return results\n",
        "\n",
        "def outerloop(x, y, estimator, search_parameters, estimator_name):\n",
        "  result = {}\n",
        "  results = []\n",
        "\n",
        "  for i in range(4):\n",
        "    x_train, x_test, y_train, y_test = train_test_split(x, y, \n",
        "                                                        test_size=0.3, \n",
        "                                                        random_state=1024 + i)\n",
        "    if search_parameters is None:\n",
        "      (best_estimator, best_params) = (estimator, None)\n",
        "    else:\n",
        "      (best_estimator, best_params) = innerloop(x_train, y_train, estimator, \n",
        "                                                search_parameters)\n",
        "\n",
        "    best_estimator.fit(x_train, y_train)\n",
        "    y_estimated = best_estimator.predict(x_test)\n",
        "\n",
        "    auc = roc_auc_score(y_test, y_estimated)\n",
        "\n",
        "    results.append(auc)\n",
        "  \n",
        "  #result['hyperparameters'] = best_params\n",
        "  result['name'] = estimator_name\n",
        "  result['mean_auc'] = np.mean(results)\n",
        "\n",
        "  return result\n",
        "\n",
        "def innerloop(x, y, estimator, search_parameters):\n",
        "  cv = StratifiedKFold(n_splits=3, \n",
        "                       shuffle=False,\n",
        "                       random_state=1024)\n",
        "  gs = RandomizedSearchCV(n_iter=10,\n",
        "                          estimator=estimator, \n",
        "                          param_distributions=search_parameters, \n",
        "                          cv=cv, \n",
        "                          scoring=\"roc_auc\", \n",
        "                          n_jobs=-1)\n",
        "  gs.fit(x,y)\n",
        "\n",
        "  return gs.best_estimator_, gs.best_params_"
      ],
      "execution_count": null,
      "outputs": []
    },
    {
      "cell_type": "markdown",
      "metadata": {
        "id": "v4DzD2vB4O38"
      },
      "source": [
        "# Estimators\n",
        "\n",
        "1. Logistic regression sem regularização\n",
        "2. Logistic regression com regularização L2\n",
        "3. LDA\n",
        "4. QDA\n",
        "5. SVM Linear\n",
        "6. SVM com kernel RBF\n",
        "7. Naive Bayes\n",
        "8. KNN\n",
        "9. MLP\n",
        "10. Arvore de decisão\n",
        "11. Random Forest\n",
        "12. GBM"
      ]
    },
    {
      "cell_type": "code",
      "metadata": {
        "id": "Vn2yGKD6dUYb"
      },
      "source": [
        "estimators = [(LogisticRegression(penalty='none'), None, \n",
        "               'Logistic regression sem regularização'), \n",
        "              (LogisticRegression(penalty='l2'), \n",
        "               {'C': 1 / np.power(10, np.random.uniform(low=-3, high=3, size=(10,)))},\n",
        "               'Logistic regression com regularização L2'),\n",
        "              (LinearDiscriminantAnalysis(), None, \n",
        "               'LDA'),\n",
        "              (QuadraticDiscriminantAnalysis(), None, \n",
        "               'QDA'),\n",
        "              (SVC(kernel='linear', max_iter=1000), \n",
        "               {'C': np.power(10, np.random.uniform(low=-5, high=15, size=(10,)))},\n",
        "               'SVM Linear'),\n",
        "              (SVC(kernel='rbf', max_iter=1000), \n",
        "               {'C': np.power(10, np.random.uniform(low=-5, high=15, size=(10,))),\n",
        "                'gamma': np.power(10, np.random.uniform(low=-9, high=3, size=(10,)))},\n",
        "               'SVM com kernel RBF'),\n",
        "              (GaussianNB(), None,\n",
        "               'Naive Bayes'),\n",
        "              (KNeighborsClassifier(), \n",
        "                {'n_neighbors': np.random.randint(low=1, high=301, size=(10,))},\n",
        "               'KNN'),\n",
        "              (MLPClassifier(), \n",
        "               {'hidden_layer_sizes': np.random.randint(low=5, high=20, size=(10,))},\n",
        "               'MLP'),\n",
        "              (DecisionTreeClassifier(), \n",
        "               {'ccp_alpha': np.random.uniform(low=0, high=0.04, size=(10,))},\n",
        "               'Árvore de decisão'),\n",
        "              (RandomForestClassifier(), \n",
        "               {'n_estimators': [10, 100, 1000],\n",
        "                'max_features': [5, 8, 10]},\n",
        "               'Random Forest'),\n",
        "              (GradientBoostingClassifier(), \n",
        "               {'n_estimators': np.random.randint(low=5, high=100, size=(10,)),\n",
        "                'learning_rate': np.random.uniform(low=0.01, high=0.3, size=(10,)),\n",
        "                'max_depth': [2, 3]},\n",
        "               'GBM')]"
      ],
      "execution_count": null,
      "outputs": []
    },
    {
      "cell_type": "markdown",
      "metadata": {
        "id": "KbS4VBv6Jccj"
      },
      "source": [
        "# Experimento\n",
        "\n",
        "Aqui rodamos o codigo principal do experimento"
      ]
    },
    {
      "cell_type": "code",
      "metadata": {
        "id": "kDPPED8Bh7IV"
      },
      "source": [
        "exp_results = experiment(x_hat, y_hat, estimators)"
      ],
      "execution_count": null,
      "outputs": []
    },
    {
      "cell_type": "markdown",
      "metadata": {
        "id": "nLietTsC4SnT"
      },
      "source": [
        "# Resultados\n",
        "\n",
        "O melhor algoritmo foi o estimador Random Forest de acordo com a métrica AUC. Segue a tabela de resultados por algoritmo testado."
      ]
    },
    {
      "cell_type": "code",
      "metadata": {
        "colab": {
          "base_uri": "https://localhost:8080/"
        },
        "id": "f3F5e0gTjRfx",
        "outputId": "53ca4d85-348b-4878-9f57-f8ec4937fbc1"
      },
      "source": [
        "df = pd.DataFrame(exp_results)\n",
        "df.columns = ['Método', 'AUC Médio']\n",
        "df.set_index(['Método'], inplace=True)\n",
        "\n",
        "print(df)"
      ],
      "execution_count": null,
      "outputs": [
        {
          "output_type": "stream",
          "text": [
            "                                          AUC Médio\n",
            "Método                                             \n",
            "Logistic regression sem regularização      0.850834\n",
            "Logistic regression com regularização L2   0.869028\n",
            "LDA                                        0.862771\n",
            "QDA                                        0.725328\n",
            "SVM Linear                                 0.847478\n",
            "SVM com kernel RBF                         0.586056\n",
            "Naive Bayes                                0.739205\n",
            "KNN                                        0.789448\n",
            "MLP                                        0.861369\n",
            "Árvore de decisão                          0.862422\n",
            "Random Forest                              0.873468\n",
            "GBM                                        0.870842\n"
          ],
          "name": "stdout"
        }
      ]
    }
  ]
}